{
 "cells": [
  {
   "cell_type": "markdown",
   "id": "659af34d",
   "metadata": {},
   "source": [
    "# Airflow 콘텍스트 사용하여 태스크 템플릿 작업"
   ]
  },
  {
   "cell_type": "markdown",
   "id": "6a738f69",
   "metadata": {},
   "source": [
    "- 페이지 뷰 증가는 긍정적임 감성 -> 회사 주식 증가 가능성\n",
    "- 위키미디어 재단 2015년 이후의 모든 페이지 뷰 컴퓨터가 읽을 수 있는 형식으로 제공\n",
    "- 페이지 뷰는 gzip 형식으로 다운로드 가능. 시간당 페이지 뷰 수 집계"
   ]
  },
  {
   "cell_type": "markdown",
   "id": "29775ec0",
   "metadata": {},
   "source": [
    "## 오퍼레이터 인수 템플릿 작업"
   ]
  },
  {
   "cell_type": "markdown",
   "id": "a6739cde",
   "metadata": {},
   "source": [
    "- Bashoperator 사용하여 위키피디아 페이지 뷰 다운로드\n",
    "- 런타임에 자동으로 템플릿 지정\n",
    "\n",
    "**Jinja**\n",
    "- 런타임 시에 템플릿 문자열의 변수와 and 및 or 표현식을 대체하는 템플릿 엔진\n",
    "- 템플릿 작성은 프로그래머로서 코드 작성 시점에는 값을 알기 어렵지만 런타임 시에 값을 할당하기 위해 사용 \n",
    "- 사용자가 런타임 시에 값을 입력하기 때문에 프로그래밍할 때에는 값 알 수 없음"
   ]
  },
  {
   "cell_type": "code",
   "execution_count": null,
   "id": "8e39bfa2",
   "metadata": {},
   "outputs": [],
   "source": [
    "import airflow\n",
    "from airflow import DAG\n",
    "from airflow.operators.bash import BashOperator\n",
    "\n",
    "dag = DAG(\n",
    "    dag_id=\"listing_4_01\",\n",
    "    start_date=airflow.utils.dates.days_ago(3),\n",
    "    schedule_interval=\"@hourly\",\n",
    ")\n",
    "\n",
    "get_data = BashOperator(\n",
    "    task_id=\"get_data\",\n",
    "    bash_command=(\n",
    "        \"curl -o /tmp/wikipageviews.gz \"\n",
    "        \"https://dumps.wikimedia.org/other/pageviews/\"\n",
    "        \"{{ execution_date.year }}/\" # 이중 중괄호는 런타임 시에 삽입될 변수 나타냄\n",
    "        \"{{ execution_date.year }}-{{ '{:02}'.format(execution_date.month) }}/\"\n",
    "        \"pageviews-{{ execution_date.year }}\"\n",
    "        \"{{ '{:02}'.format(execution_date.month) }}\" # 빈 앞자리를 0으로 채우는 월, 일 및 시간 값이 필요 \n",
    "        \"{{ '{:02}'.format(execution_date.day) }}-\"\n",
    "        \"{{ '{:02}'.format(execution_date.hour) }}0000.gz\"\n",
    "    ),\n",
    "    dag=dag,\n",
    ")"
   ]
  },
  {
   "cell_type": "markdown",
   "id": "d777b679",
   "metadata": {},
   "source": [
    "## 템플릿 사용 가능 변수"
   ]
  },
  {
   "cell_type": "markdown",
   "id": "a5d08453",
   "metadata": {},
   "source": [
    "**템플릿화를 위해 사용할 수 있는 변수**\n",
    "- execution_date 등\n",
    "- 전체 태스크 콘텍스트 출력하여 검사하기\n",
    "- conf, dag, dag_run, ds, ds_nodash, execution_date 등 "
   ]
  },
  {
   "cell_type": "code",
   "execution_count": null,
   "id": "c07474b2",
   "metadata": {},
   "outputs": [],
   "source": [
    "import airflow.utils.dates\n",
    "from airflow import DAG\n",
    "from airflow.operators.python import PythonOperator\n",
    "\n",
    "dag = DAG(\n",
    "    dag_id=\"listing_4_03\",\n",
    "    start_date=airflow.utils.dates.days_ago(3),\n",
    "    schedule_interval=\"@daily\",\n",
    ")\n",
    "\n",
    "\n",
    "def _print_context(**kwargs):\n",
    "    print(kwargs)\n",
    "\n",
    "\n",
    "print_context = PythonOperator(\n",
    "    task_id=\"print_context\", python_callable=_print_context, dag=dag\n",
    ")"
   ]
  },
  {
   "cell_type": "markdown",
   "id": "f7397a3e",
   "metadata": {},
   "source": [
    "### 성공결과"
   ]
  },
  {
   "attachments": {
    "image.png": {
     "image/png": "[encoded data removed]"
    }
   },
   "cell_type": "markdown",
   "id": "491ff6ce",
   "metadata": {},
   "source": [
    "![image.png](attachment:image.png)"
   ]
  },
  {
   "cell_type": "markdown",
   "id": "d74ea64e",
   "metadata": {},
   "source": [
    "## PythonOperator 템플릿"
   ]
  },
  {
   "cell_type": "markdown",
   "id": "240cb191",
   "metadata": {},
   "source": [
    "- 런타임 콘텍스트로 템플릿화할 수 있는 인수 사용치 않고 별도로 런타임 콘텍스트 적용\n",
    "- 파이썬에서 함수는 주요 요소"
   ]
  },
  {
   "cell_type": "code",
   "execution_count": null,
   "id": "12ae9367",
   "metadata": {},
   "outputs": [],
   "source": [
    "from urllib import request\n",
    "\n",
    "import airflow.utils.dates\n",
    "from airflow import DAG\n",
    "from airflow.operators.python import PythonOperator\n",
    "\n",
    "dag = DAG(\n",
    "    dag_id=\"listing_4_05\",\n",
    "    start_date=airflow.utils.dates.days_ago(1),\n",
    "    schedule_interval=\"@hourly\",\n",
    ")\n",
    "\n",
    "\n",
    "def _get_data(execution_date): # 태스크 컨택스트 변수\n",
    "    year, month, day, hour, *_ = execution_date.timetuple() # execution_date로부터 datetime 요소 추출\n",
    "    url = (\n",
    "        \"https://dumps.wikimedia.org/other/pageviews/\"\n",
    "        f\"{year}/{year}-{month:0>2}/pageviews-{year}{month:0>2}{day:0>2}-{hour:0>2}0000.gz\" # datetime 요소로 URL 형식화\n",
    "    )\n",
    "    output_path = \"/tmp/wikipageviews.gz\"\n",
    "    request.urlretrieve(url, output_path) # 반환되는 데이터 \n",
    "\n",
    "\n",
    "get_data = PythonOperator(task_id=\"get_data\", python_callable=_get_data, dag=dag)\n"
   ]
  },
  {
   "cell_type": "markdown",
   "id": "bfe2a4c5",
   "metadata": {},
   "source": [
    "- 파이썬은 함수에서 키워드 인수 받을 수 있음\n",
    "- 키워드 인수의 이름 지정은 Airflow 태스크 콘텍스트 변수를 확인하기 위해서 적절한 이름 사용"
   ]
  },
  {
   "cell_type": "code",
   "execution_count": null,
   "id": "2ebfa2da",
   "metadata": {},
   "outputs": [],
   "source": [
    "import airflow.utils.dates\n",
    "from airflow import DAG\n",
    "from airflow.operators.python import PythonOperator\n",
    "\n",
    "dag = DAG(\n",
    "    dag_id=\"listing_4_07\",\n",
    "    start_date=airflow.utils.dates.days_ago(3),\n",
    "    schedule_interval=\"@daily\",\n",
    ")\n",
    "\n",
    "\n",
    "def _print_context(**context):\n",
    "    print(context)\n",
    "\n",
    "\n",
    "print_context = PythonOperator(\n",
    "    task_id=\"print_context\", python_callable=_print_context, dag=dag\n",
    ")"
   ]
  },
  {
   "cell_type": "markdown",
   "id": "c0ee3525",
   "metadata": {},
   "source": [
    "- 콘텍스트 변수는 모든 콘텍스트 변수의 집합\n",
    "- 태스크 실행 간격에 대한 다양한 동작 제공"
   ]
  },
  {
   "cell_type": "code",
   "execution_count": null,
   "id": "2d62facb",
   "metadata": {},
   "outputs": [],
   "source": [
    "import airflow.utils.dates\n",
    "from airflow import DAG\n",
    "from airflow.operators.python import PythonOperator\n",
    "\n",
    "dag = DAG(\n",
    "    dag_id=\"listing_4_08\",\n",
    "    start_date=airflow.utils.dates.days_ago(3),\n",
    "    schedule_interval=\"@daily\",\n",
    ")\n",
    "\n",
    "\n",
    "def _print_context(**context):\n",
    "    start = context[\"execution_date\"] # context로부터 execution_date 추출\n",
    "    end = context[\"next_execution_date\"]\n",
    "    print(f\"Start: {start}, end: {end}\")\n",
    "\n",
    "\n",
    "# Prints e.g.:\n",
    "# Start: 2019-07-13T14:00:00+00:00, end: 2019-07-13T15:00:00+00:00\n",
    "\n",
    "\n",
    "print_context = PythonOperator(\n",
    "    task_id=\"print_context\", python_callable=_print_context, dag=dag\n",
    ")"
   ]
  },
  {
   "cell_type": "markdown",
   "id": "a62d0156",
   "metadata": {},
   "source": [
    "## PythonOperator에 변수 제공"
   ]
  },
  {
   "cell_type": "markdown",
   "id": "300188b7",
   "metadata": {},
   "source": [
    "- output_path를 입력 가능하게 만들어 작업에 따라 출력 경로를 변경하기 위해 전체 함수를 복사하는 대신 output_path만 별도로 구성 가능 "
   ]
  },
  {
   "cell_type": "code",
   "execution_count": null,
   "id": "87c49758",
   "metadata": {},
   "outputs": [],
   "source": [
    "def _get_data(output_path, **context): # 태스크 컨택스트 변수\n",
    "    year, month, day, hour, *_ = execution_date.timetuple() # execution_date로부터 datetime 요소 추출\n",
    "    url = (\n",
    "        \"https://dumps.wikimedia.org/other/pageviews/\"\n",
    "        f\"{year}/{year}-{month:0>2}/pageviews-{year}{month:0>2}{day:0>2}-{hour:0>2}0000.gz\" # datetime 요소로 URL 형식화\n",
    "    )\n",
    "    output_path = \"/tmp/wikipageviews.gz\"\n",
    "    request.urlretrieve(url, output_path) # 이제 output_path를 함수 인수를 통해 구성 가능 "
   ]
  },
  {
   "cell_type": "markdown",
   "id": "10674e8c",
   "metadata": {},
   "source": [
    "**output_path 값 제공**\n",
    "\n",
    "1. op_args 인수 사용 \n",
    "  - _get_data(\"\\tmp\\wikipageviews.gz\") 함수 직접 호출하는 것과 동일한 결과 "
   ]
  },
  {
   "cell_type": "code",
   "execution_count": null,
   "id": "6431a3b9",
   "metadata": {},
   "outputs": [],
   "source": [
    "get_data = PythonOperator(\n",
    "    task_id=\"get_data\",\n",
    "    python_callable=_get_data,\n",
    "    op_args={\"\\tmp\\wikipageviews.gz\"}, # op_args를 사용하여 콜러블 함수에 추가 변수 제공 \n",
    "    dag=dag, )"
   ]
  },
  {
   "cell_type": "markdown",
   "id": "9fd93b17",
   "metadata": {},
   "source": [
    "2. op_kwargs 인수 사용\n",
    "  - _get_data(output_path='\\tmp\\wikipageviews.gz') 와 동등한 호출"
   ]
  },
  {
   "cell_type": "code",
   "execution_count": null,
   "id": "38b70573",
   "metadata": {},
   "outputs": [],
   "source": [
    "get_data = PythonOperator(\n",
    "    task_id=\"get_data\",\n",
    "    python_callable=_get_data,\n",
    "    op_kwargs={\"output_path\": \"/tmp/wikipageviews.gz\"}, # op.kwargs에 주어진 명령어가 호출 가능한 키워드 인수로 전달됨\n",
    "    dag=dag,\n",
    ")"
   ]
  },
  {
   "cell_type": "code",
   "execution_count": null,
   "id": "7414671c",
   "metadata": {},
   "outputs": [],
   "source": [
    "def _get_data(year, month, day, hour, output_path, **_):\n",
    "    url = (\n",
    "        \"https://dumps.wikimedia.org/other/pageviews/\"\n",
    "        f\"{year}/{year}-{month:0>2}/pageviews-{year}{month:0>2}{day:0>2}-{hour:0>2}0000.gz\"\n",
    "    )\n",
    "    request.urlretrieve(url, output_path)\n",
    "\n",
    "\n",
    "get_data = PythonOperator(\n",
    "    task_id=\"get_data\",\n",
    "    python_callable=_get_data,\n",
    "    op_kwargs={\n",
    "        \"year\": \"{{ execution_date.year }}\",\n",
    "        \"month\": \"{{ execution_date.month }}\",\n",
    "        \"day\": \"{{ execution_date.day }}\",\n",
    "        \"hour\": \"{{ execution_date.hour }}\",\n",
    "        \"output_path\": \"/tmp/wikipageviews.gz\",\n",
    "    },\n",
    "    dag=dag,\n",
    ")"
   ]
  },
  {
   "cell_type": "markdown",
   "id": "48c29bed",
   "metadata": {},
   "source": [
    "## 템플릿 인수 검사"
   ]
  },
  {
   "cell_type": "markdown",
   "id": "c1e4a094",
   "metadata": {},
   "source": [
    "- Airflow UI에서 Rendered Template 버튼 클릭"
   ]
  },
  {
   "attachments": {
    "image.png": {
     "image/png": "[encoded data removed]"
    }
   },
   "cell_type": "markdown",
   "id": "cbd03c15",
   "metadata": {},
   "source": [
    "![image.png](attachment:image.png)"
   ]
  },
  {
   "cell_type": "markdown",
   "id": "10d9df7d",
   "metadata": {},
   "source": [
    "- Airflow 명령줄 인터페이스(CLI) 사용"
   ]
  },
  {
   "cell_type": "code",
   "execution_count": null,
   "id": "82a708c1",
   "metadata": {},
   "outputs": [],
   "source": [
    "airflow tasks render [dag id] [task id] [desired execution date]"
   ]
  },
  {
   "cell_type": "markdown",
   "id": "9bebbbdf",
   "metadata": {},
   "source": [
    "# 다른 시스템과 연결하기"
   ]
  },
  {
   "cell_type": "markdown",
   "id": "861a1634",
   "metadata": {},
   "source": [
    "- 저장소에서 추출하고 압축을 푼 파일을 스캔한 후, 지정된 페이지 이름에 대한 페이지 뷰 카운트 선택해 처리\n",
    "- 결과 로그 출력"
   ]
  },
  {
   "cell_type": "code",
   "execution_count": null,
   "id": "3f0f471b",
   "metadata": {},
   "outputs": [],
   "source": [
    "from urllib import request\n",
    "\n",
    "import airflow.utils.dates\n",
    "from airflow import DAG\n",
    "from airflow.operators.bash import BashOperator\n",
    "from airflow.operators.python import PythonOperator\n",
    "\n",
    "dag = DAG(\n",
    "    dag_id=\"listing_4_15\",\n",
    "    start_date=airflow.utils.dates.days_ago(1),\n",
    "    schedule_interval=\"@hourly\",\n",
    "    max_active_runs=1,\n",
    ")\n",
    "\n",
    "\n",
    "def _get_data(year, month, day, hour, output_path, **_):\n",
    "    url = (\n",
    "        \"https://dumps.wikimedia.org/other/pageviews/\"\n",
    "        f\"{year}/{year}-{month:0>2}/pageviews-{year}{month:0>2}{day:0>2}-{hour:0>2}0000.gz\"\n",
    "    )\n",
    "    request.urlretrieve(url, output_path)\n",
    "\n",
    "\n",
    "get_data = PythonOperator(\n",
    "    task_id=\"get_data\",\n",
    "    python_callable=_get_data,\n",
    "    op_kwargs={\n",
    "        \"year\": \"{{ execution_date.year }}\",\n",
    "        \"month\": \"{{ execution_date.month }}\",\n",
    "        \"day\": \"{{ execution_date.day }}\",\n",
    "        \"hour\": \"{{ execution_date.hour }}\",\n",
    "        \"output_path\": \"/tmp/wikipageviews.gz\",\n",
    "    },\n",
    "    dag=dag,\n",
    ")\n",
    "\n",
    "extract_gz = BashOperator(\n",
    "    task_id=\"extract_gz\", bash_command=\"gunzip --force /tmp/wikipageviews.gz\", dag=dag\n",
    ")\n",
    "\n",
    "\n",
    "def _fetch_pageviews(pagenames):\n",
    "    result = dict.fromkeys(pagenames, 0)\n",
    "    with open(\"/tmp/wikipageviews\", \"r\") as f:\n",
    "        for line in f:\n",
    "            domain_code, page_title, view_counts, _ = line.split(\" \")\n",
    "            if domain_code == \"en\" and page_title in pagenames:\n",
    "                result[page_title] = view_counts\n",
    "\n",
    "    print(result)\n",
    "    # Prints e.g. \"{'Facebook': '778', 'Apple': '20', 'Google': '451', 'Amazon': '9', 'Microsoft': '119'}\"\n",
    "\n",
    "\n",
    "fetch_pageviews = PythonOperator(\n",
    "    task_id=\"fetch_pageviews\",\n",
    "    python_callable=_fetch_pageviews,\n",
    "    op_kwargs={\"pagenames\": {\"Google\", \"Amazon\", \"Apple\", \"Microsoft\", \"Facebook\"}},\n",
    "    dag=dag,\n",
    ")\n",
    "\n",
    "get_data >> extract_gz >> fetch_pageviews"
   ]
  },
  {
   "cell_type": "markdown",
   "id": "b5538997",
   "metadata": {},
   "source": [
    "- 출력 저장 위한 테이블 생성 구문\n",
    "- INSERT 쿼리"
   ]
  },
  {
   "cell_type": "code",
   "execution_count": null,
   "id": "f2841acc",
   "metadata": {},
   "outputs": [],
   "source": [
    "CREATE TABLE pageview_counts (\n",
    "    pagename VARCHAR(50) NOT NULL, # 위키피디아 페이지 네임\n",
    "    pageviewcount INT NOT NULL, # 주어진 시간 동안 해당 페이지의 페이지 뷰 수\n",
    "    datetime TIMESTAMP NOT NULL # 페이지 뷰 수에 관련된 날짜와 시간 포함 \n",
    ");\n",
    "\n",
    "INSERT INTO pageview_counts VALUES ('Google', 333, '2019-07-17T00:00:00');"
   ]
  },
  {
   "cell_type": "markdown",
   "id": "a135a47f",
   "metadata": {},
   "source": [
    "**Airflow 태스크 간 데이터 전달 방법**\n",
    "1. Airflow 메타스토어를 사용하여 태스크 간 결과 쓰고 읽기. XCom\n",
    "2. 영구적인 위치(디스크, 데이터베이스 등)에 태스크 결과 기록"
   ]
  },
  {
   "cell_type": "markdown",
   "id": "beadba5d",
   "metadata": {},
   "source": [
    "- 태스크 간에 데이터를 저장하는 방법을 결정하기 위해서는 데이터가 다시 사용되는 위치와 방법 알아야 함\n",
    "- 대상이 되는 데이터베이스가 Postgres이므로 PostgresOperator를 사용해 데이터 입력\n",
    "- PostgresOperator 클래스 가져오기 위한 추가 패키지 설치\n",
    "- Airflow2 이후 대부분의 오퍼레이터는 별도의 pip 패키지를 통해 설치\n",
    "- PostgresOperator는 CSV 데이터로부터 입력하는 기능을 지원하지 않으므로 먼저 SQL 쿼리를 임시 데이터로 작성"
   ]
  },
  {
   "cell_type": "code",
   "execution_count": null,
   "id": "924a10a3",
   "metadata": {},
   "outputs": [],
   "source": [
    "pip install apache-airflow-providers-postgres"
   ]
  },
  {
   "cell_type": "code",
   "execution_count": null,
   "id": "3ca8c0f9",
   "metadata": {},
   "outputs": [],
   "source": [
    "def _fetch_pageviews(pagenames, execution_date, **_):\n",
    "    result = dict.fromkeys(pagenames, 0) # 0으로 모든 페이지 뷰에 대한 결과 초기화\n",
    "    with open(\"/tmp/wikipageviews\", \"r\") as f:\n",
    "        for line in f:\n",
    "            domain_code, page_title, view_counts, _ = line.split(\" \")\n",
    "            if domain_code == \"en\" and page_title in pagenames:\n",
    "                result[page_title] = view_counts # 페이지 뷰 저장\n",
    "\n",
    "    with open(\"/tmp/postgres_query.sql\", \"w\") as f:\n",
    "        for pagename, pageviewcount in result.items(): # 각 결과에 대해 SQL 쿼리 작성\n",
    "            f.write(\n",
    "                \"INSERT INTO pageview_counts VALUES (\"\n",
    "                f\"'{pagename}', {pageviewcount}, '{execution_date}'\"\n",
    "                \");\\n\"\n",
    "            )\n",
    "\n",
    "\n",
    "fetch_pageviews = PythonOperator(\n",
    "    task_id=\"fetch_pageviews\",\n",
    "    python_callable=_fetch_pageviews,\n",
    "    op_kwargs={\"pagenames\": {\"Google\", \"Amazon\", \"Apple\", \"Microsoft\", \"Facebook\"}},\n",
    "    dag=dag,\n",
    ")"
   ]
  },
  {
   "cell_type": "code",
   "execution_count": null,
   "id": "a2ec7b18",
   "metadata": {},
   "outputs": [],
   "source": [
    "# \"\"\"\n",
    "# Documentation of pageview format: https://wikitech.wikimedia.org/wiki/Analytics/Data_Lake/Traffic/Pageviews\n",
    "# \"\"\"\n",
    "\n",
    "from urllib import request\n",
    "\n",
    "import airflow.utils.dates\n",
    "from airflow import DAG\n",
    "from airflow.operators.bash import BashOperator\n",
    "from airflow.operators.python import PythonOperator\n",
    "from airflow.providers.postgres.operators.postgres import PostgresOperator\n",
    "\n",
    "dag = DAG(\n",
    "    dag_id=\"listing_4_20\",\n",
    "    start_date=airflow.utils.dates.days_ago(1),\n",
    "    schedule_interval=\"@hourly\",\n",
    "    template_searchpath=\"/tmp\", # sql 파일 탐색 경로 \n",
    "    max_active_runs=1,\n",
    ")\n",
    "\n",
    "\n",
    "def _get_data(year, month, day, hour, output_path):\n",
    "    url = (\n",
    "        \"https://dumps.wikimedia.org/other/pageviews/\"\n",
    "        f\"{year}/{year}-{month:0>2}/pageviews-{year}{month:0>2}{day:0>2}-{hour:0>2}0000.gz\"\n",
    "    )\n",
    "    request.urlretrieve(url, output_path)\n",
    "\n",
    "\n",
    "get_data = PythonOperator(\n",
    "    task_id=\"get_data\",\n",
    "    python_callable=_get_data,\n",
    "    op_kwargs={\n",
    "        \"year\": \"{{ execution_date.year }}\",\n",
    "        \"month\": \"{{ execution_date.month }}\",\n",
    "        \"day\": \"{{ execution_date.day }}\",\n",
    "        \"hour\": \"{{ execution_date.hour }}\",\n",
    "        \"output_path\": \"/tmp/wikipageviews.gz\",\n",
    "    },\n",
    "    dag=dag,\n",
    ")\n",
    "\n",
    "\n",
    "extract_gz = BashOperator(\n",
    "    task_id=\"extract_gz\", bash_command=\"gunzip --force /tmp/wikipageviews.gz\", dag=dag\n",
    ")\n",
    "\n",
    "\n",
    "def _fetch_pageviews(pagenames, execution_date):\n",
    "    result = dict.fromkeys(pagenames, 0)\n",
    "    with open(\"/tmp/wikipageviews\", \"r\") as f:\n",
    "        for line in f:\n",
    "            domain_code, page_title, view_counts, _ = line.split(\" \")\n",
    "            if domain_code == \"en\" and page_title in pagenames:\n",
    "                result[page_title] = view_counts\n",
    "\n",
    "    with open(\"/tmp/postgres_query.sql\", \"w\") as f:\n",
    "        for pagename, pageviewcount in result.items():\n",
    "            f.write(\n",
    "                \"INSERT INTO pageview_counts VALUES (\"\n",
    "                f\"'{pagename}', {pageviewcount}, '{execution_date}'\"\n",
    "                \");\\n\"\n",
    "            )\n",
    "\n",
    "\n",
    "fetch_pageviews = PythonOperator(\n",
    "    task_id=\"fetch_pageviews\",\n",
    "    python_callable=_fetch_pageviews,\n",
    "    op_kwargs={\"pagenames\": {\"Google\", \"Amazon\", \"Apple\", \"Microsoft\", \"Facebook\"}},\n",
    "    dag=dag,\n",
    ")\n",
    "\n",
    "write_to_postgres = PostgresOperator(\n",
    "    task_id=\"write_to_postgres\",\n",
    "    postgres_conn_id=\"my_postgres\", # 연결에 사용할 인증 정보의 식별자\n",
    "    sql=\"postgres_query.sql\", # SQL 쿼리 또는 SQL 쿼리를 포함하는 파일의 경로 \n",
    "    dag=dag,\n",
    ")\n",
    "\n",
    "get_data >> extract_gz >> fetch_pageviews >> write_to_postgres"
   ]
  },
  {
   "cell_type": "markdown",
   "id": "19051d67",
   "metadata": {},
   "source": [
    "- CLI 사용하여 Airflow에 자격 증명 저장"
   ]
  },
  {
   "cell_type": "code",
   "execution_count": null,
   "id": "aee4920b",
   "metadata": {},
   "outputs": [],
   "source": [
    "airflow connections add \\ \n",
    "    --conn-type postgres \\ \n",
    "    --conn-host localhost \\ \n",
    "    --conn-login postgres \\ \n",
    "    --conn-password mysecretpassword \\ \n",
    "    my_postgres # 연결 식별자"
   ]
  },
  {
   "attachments": {
    "image.png": {
     "image/png": "[encoded data removed]"
    }
   },
   "cell_type": "markdown",
   "id": "058c78d5",
   "metadata": {},
   "source": [
    "![image.png](attachment:image.png)"
   ]
  },
  {
   "attachments": {
    "image.png": {
     "image/png": "[encoded data removed]"
    }
   },
   "cell_type": "markdown",
   "id": "9d7dceba",
   "metadata": {},
   "source": [
    "![image.png](attachment:image.png)"
   ]
  },
  {
   "cell_type": "markdown",
   "id": "9a451b11",
   "metadata": {},
   "source": [
    "- 페이지당 가장 인기 있는 시간 확인 SQL 쿼리"
   ]
  },
  {
   "cell_type": "code",
   "execution_count": null,
   "id": "16479756",
   "metadata": {},
   "outputs": [],
   "source": [
    "SELECT x.pagename, x.hr AS \"hour\", x.average AS \"average pageviews\"\n",
    "FROM (\n",
    "  SELECT\n",
    "    pagename,\n",
    "    date_part('hour', datetime) AS hr,\n",
    "    AVG(pageviewcount) AS average,\n",
    "    ROW_NUMBER() OVER (PARTITION BY pagename ORDER BY AVG(pageviewcount) DESC)\n",
    "  FROM pageview_counts\n",
    "  GROUP BY pagename, hr\n",
    ") AS x\n",
    "WHERE row_number=1;"
   ]
  },
  {
   "cell_type": "markdown",
   "id": "592d3b39",
   "metadata": {},
   "source": [
    "# Error"
   ]
  },
  {
   "cell_type": "code",
   "execution_count": null,
   "id": "d3cb3d46",
   "metadata": {},
   "outputs": [],
   "source": [
    "DESKTOP-0BPMC65.localdomain\n",
    "*** Reading local file: /home/karl/airflow/logs/dag_id=listing_4_20/run_id=scheduled__2022-08-17T00:00:00+00:00/task_id=write_to_postgres/attempt=3.log\n",
    "[2022-08-18 16:27:47,748] {taskinstance.py:1179} INFO - Dependencies all met for <TaskInstance: listing_4_20.write_to_postgres scheduled__2022-08-17T00:00:00+00:00 [queued]>\n",
    "[2022-08-18 16:27:47,752] {taskinstance.py:1179} INFO - Dependencies all met for <TaskInstance: listing_4_20.write_to_postgres scheduled__2022-08-17T00:00:00+00:00 [queued]>\n",
    "[2022-08-18 16:27:47,752] {taskinstance.py:1376} INFO - \n",
    "--------------------------------------------------------------------------------\n",
    "[2022-08-18 16:27:47,752] {taskinstance.py:1377} INFO - Starting attempt 3 of 3\n",
    "[2022-08-18 16:27:47,752] {taskinstance.py:1378} INFO - \n",
    "--------------------------------------------------------------------------------\n",
    "[2022-08-18 16:27:47,763] {taskinstance.py:1397} INFO - Executing <Task(PostgresOperator): write_to_postgres> on 2022-08-17 00:00:00+00:00\n",
    "[2022-08-18 16:27:47,764] {standard_task_runner.py:52} INFO - Started process 6672 to run task\n",
    "[2022-08-18 16:27:47,766] {standard_task_runner.py:79} INFO - Running: ['airflow', 'tasks', 'run', 'listing_4_20', 'write_to_postgres', 'scheduled__2022-08-17T00:00:00+00:00', '--job-id', '106', '--raw', '--subdir', 'DAGS_FOLDER/listing_4_20.py', '--cfg-path', '/tmp/tmphilq7u07', '--error-file', '/tmp/tmpi4ppgcke']\n",
    "[2022-08-18 16:27:47,767] {standard_task_runner.py:80} INFO - Job 106: Subtask write_to_postgres\n",
    "[2022-08-18 16:27:47,798] {task_command.py:371} INFO - Running <TaskInstance: listing_4_20.write_to_postgres scheduled__2022-08-17T00:00:00+00:00 [running]> on host DESKTOP-0BPMC65.localdomain\n",
    "[2022-08-18 16:27:47,838] {taskinstance.py:1591} INFO - Exporting the following env vars:\n",
    "AIRFLOW_CTX_DAG_OWNER=airflow\n",
    "AIRFLOW_CTX_DAG_ID=listing_4_20\n",
    "AIRFLOW_CTX_TASK_ID=write_to_postgres\n",
    "AIRFLOW_CTX_EXECUTION_DATE=2022-08-17T00:00:00+00:00\n",
    "AIRFLOW_CTX_TRY_NUMBER=3\n",
    "AIRFLOW_CTX_DAG_RUN_ID=scheduled__2022-08-17T00:00:00+00:00\n",
    "[2022-08-18 16:27:47,842] {base.py:68} INFO - Using connection ID 'my_postgres' for task execution.\n",
    "[2022-08-18 16:27:47,843] {taskinstance.py:1909} ERROR - Task failed with exception\n",
    "Traceback (most recent call last):\n",
    "  File \"/home/karl/anaconda3/envs/airflow/lib/python3.7/site-packages/airflow/providers/postgres/operators/postgres.py\", line 92, in execute\n",
    "    self.hook.run(self.sql, self.autocommit, parameters=self.parameters)\n",
    "  File \"/home/karl/anaconda3/envs/airflow/lib/python3.7/site-packages/airflow/providers/common/sql/hooks/sql.py\", line 227, in run\n",
    "    with closing(self.get_conn()) as conn:\n",
    "  File \"/home/karl/anaconda3/envs/airflow/lib/python3.7/site-packages/airflow/providers/postgres/hooks/postgres.py\", line 113, in get_conn\n",
    "    self.conn = psycopg2.connect(**conn_args)\n",
    "  File \"/home/karl/anaconda3/envs/airflow/lib/python3.7/site-packages/psycopg2/__init__.py\", line 122, in connect\n",
    "    conn = _connect(dsn, connection_factory=connection_factory, **kwasync)\n",
    "psycopg2.OperationalError: connection to server at \"localhost\" (127.0.0.1), port 5432 failed: Connection refused\n",
    "\tIs the server running on that host and accepting TCP/IP connections?\n",
    "\n",
    "[2022-08-18 16:27:47,846] {taskinstance.py:1420} INFO - Marking task as FAILED. dag_id=listing_4_20, task_id=write_to_postgres, execution_date=20220817T000000, start_date=20220818T072747, end_date=20220818T072747\n",
    "[2022-08-18 16:27:47,853] {standard_task_runner.py:97} ERROR - Failed to execute job 106 for task write_to_postgres (connection to server at \"localhost\" (127.0.0.1), port 5432 failed: Connection refused\n",
    "\tIs the server running on that host and accepting TCP/IP connections?\n",
    "; 6672)\n",
    "[2022-08-18 16:27:47,857] {local_task_job.py:156} INFO - Task exited with return code 1\n",
    "[2022-08-18 16:27:47,870] {local_task_job.py:273} INFO - 0 downstream tasks scheduled from follow-on schedule check"
   ]
  },
  {
   "cell_type": "markdown",
   "id": "d2a003e5",
   "metadata": {},
   "source": [
    "## 해결 방법 시도(미해결)"
   ]
  },
  {
   "cell_type": "markdown",
   "id": "f5870f54",
   "metadata": {},
   "source": [
    "1. Ubuntu postgresql 설치\n",
    "  - sudo apt-get install postgresql postgresql-contrib\n",
    "  - psql --version # 버전 확인\n",
    "  - sudo -i -u postgres # 계정 접속\n",
    "  - psql # psql 접속 \n",
    "    - connection to server on socket \"/var/run/postgresql/.s.PGSQL.5432\" 에러 발생\n",
    "    - sudo apt-get remove --purge postgresql-contrib # 삭제\n",
    "    - sudo apt-get install postgresql # 재설치\n",
    "    - psql --version\n",
    "    - sudo -i -u postgres # 계정 접속\n",
    "    - psql # psql 접속\n",
    "    - connection to server on socket \"/var/run/postgresql/.s.PGSQL.5432\" 같은 에러 발생\n",
    "    \n",
    "  - sudo apt-get --purge remove postgresql\\* # PostgreSQL과 관련된 패키지 전체 삭제"
   ]
  },
  {
   "cell_type": "markdown",
   "id": "d5537270",
   "metadata": {},
   "source": [
    "# Reference "
   ]
  },
  {
   "cell_type": "markdown",
   "id": "1c937801",
   "metadata": {},
   "source": [
    "1. 블로그(검색어)\n",
    "- https://bumday.tistory.com/49 (ubuntu postgresql 삭제)"
   ]
  }
 ],
 "metadata": {
  "kernelspec": {
   "display_name": "Python 3 (ipykernel)",
   "language": "python",
   "name": "python3"
  },
  "language_info": {
   "codemirror_mode": {
    "name": "ipython",
    "version": 3
   },
   "file_extension": ".py",
   "mimetype": "text/x-python",
   "name": "python",
   "nbconvert_exporter": "python",
   "pygments_lexer": "ipython3",
   "version": "3.9.12"
  },
  "toc": {
   "base_numbering": 1,
   "nav_menu": {},
   "number_sections": true,
   "sideBar": true,
   "skip_h1_title": false,
   "title_cell": "Table of Contents",
   "title_sidebar": "Contents",
   "toc_cell": false,
   "toc_position": {},
   "toc_section_display": true,
   "toc_window_display": false
  },
  "varInspector": {
   "cols": {
    "lenName": 16,
    "lenType": 16,
    "lenVar": 40
   },
   "kernels_config": {
    "python": {
     "delete_cmd_postfix": "",
     "delete_cmd_prefix": "del ",
     "library": "var_list.py",
     "varRefreshCmd": "print(var_dic_list())"
    },
    "r": {
     "delete_cmd_postfix": ") ",
     "delete_cmd_prefix": "rm(",
     "library": "var_list.r",
     "varRefreshCmd": "cat(var_dic_list()) "
    }
   },
   "types_to_exclude": [
    "module",
    "function",
    "builtin_function_or_method",
    "instance",
    "_Feature"
   ],
   "window_display": false
  }
 },
 "nbformat": 4,
 "nbformat_minor": 5
}
