{
 "cells": [
  {
   "cell_type": "markdown",
   "id": "26c83de5",
   "metadata": {},
   "source": [
    "# Airflow\n",
    "- 유연한 파이썬 프레임워크를 사용해 쉽게 데이터 파이프라인 구축 가능 \n",
    "- 파이프라인이나 워크플로 태스크를 DAG로 정의 \n",
    "- DAG 파일 안에 파이썬 코드를 사용하여 DAG 정의\n",
    "- 외부 데이터베이스, 빅데이터 기술 등 여러 시스템 간에 데이터 프로세스 결합할 숭 ㅣㅆ는 복잡한 데이터 파이프라인 구축 가능"
   ]
  },
  {
   "cell_type": "markdown",
   "id": "64e01315",
   "metadata": {},
   "source": [
    "## 데이터 파이프라인\n",
    "- 원하는 결과를 얻기 위해 실행되는 여러 테스크 또는 동작으로 구성\n",
    "\n",
    "- 서로 다른 테스크로 구성되고 각 테스크는 정해진 순서대로 진행되어야 함\n",
    "\n",
    "- 방향성 비순환 그래프(DAG, Directed Acyclic Graph) : 명확한 방향성 존재. 태스크 그래프 효율적 해결 및 실행하기 위해 사용\n",
    "\n",
    "- DAG 구성 : 다음 태스크로 향하기 전 이전 태스크가 완료되었는 지 확인 => 실행 대기열에 있는 태스크 실행 => 태스크 수행이 완료되면 완료 표시 => 그래프의 모든 태스크가 완료될 때까지 1단계로 돌아감"
   ]
  },
  {
   "cell_type": "markdown",
   "id": "a10c0d86",
   "metadata": {},
   "source": [
    "## 파이프라인 스케줄링 및 실행"
   ]
  },
  {
   "cell_type": "markdown",
   "id": "e6a4e8ae",
   "metadata": {},
   "source": [
    "- Airflow 스케줄러 : DAG 분석 및 현재 시점에서 DAG 스케줄 지난 경우 Airflow 워커에 DAG 태스크 예약\n",
    "- Airflow 워커 : 예약된 태스크 선택 및 실행\n",
    "- Airflow 웹 서버 : 스케줄러에서 분석한 DAG 시각화 및 실행과 결과 확인 인터페이스 제공"
   ]
  },
  {
   "cell_type": "markdown",
   "id": "b3dbc703",
   "metadata": {},
   "source": [
    "# 예시\n",
    "- 로켓 발사"
   ]
  },
  {
   "cell_type": "markdown",
   "id": "b4be5d17",
   "metadata": {},
   "source": [
    "## 데이터 탐색"
   ]
  },
  {
   "cell_type": "markdown",
   "id": "64d79612",
   "metadata": {},
   "source": [
    "1. curl\n",
    "- cURL은 command line 기반의 웹 요청 도구이다. \n",
    "- Unix, Linux, Windows 등의 주요 OS에서 구동 가능하며 HTTP/HTTPS/FTP/LDAP/SCP/TELNET/SMTP/POP3 등 핵심 프로코콜을 지원하기 때문에 유용하게 사용된다.\n",
    "- download와 upload가 모두 가능하다.\n",
    "- 출처 : https://www.leafcats.com/188\n",
    "\n",
    "2. Airflow\n",
    "- Airflow의 장점은 하나 이상의 단계로 구성된 대규모 작업을 개별 태스크로 분할하고 DAG로 형성할 수 있는 것"
   ]
  },
  {
   "cell_type": "code",
   "execution_count": 5,
   "id": "00d1aebd",
   "metadata": {
    "ExecuteTime": {
     "end_time": "2022-08-10T11:50:58.641124Z",
     "start_time": "2022-08-10T11:50:57.449233Z"
    }
   },
   "outputs": [
    {
     "name": "stdout",
     "output_type": "stream",
     "text": [
      "{\"count\":249,\"next\":\"https://ll.thespacedevs.com/2.2.0/launch/upcoming/?limit=10&offset=10\",\"previous\":null,\"results\":[{\"id\":\"a6b9deb4-f78d-4b57-8e47-98c5aea99d9e\",\"url\":\"https://ll.thespacedevs.com/2.2.0/launch/a6b9deb4-f78d-4b57-8e47-98c5aea99d9e/\",\"slug\":\"falcon-9-block-5-starlink-group-4-26\",\"name\":\"Falcon 9 Block 5 | Starlink Group 4-26\",\"status\":{\"id\":3,\"name\":\"Launch Successful\",\"abbrev\":\"Success\",\"description\":\"The launch vehicle successfully inserted its payload(s) into the target orbit(s).\"},\"last_updated\":\"2022-08-10T02:32:29Z\",\"net\":\"2022-08-10T02:14:00Z\",\"window_end\":\"2022-08-10T02:14:00Z\",\"window_start\":\"2022-08-10T02:14:00Z\",\"probability\":70,\"holdreason\":\"\",\"failreason\":\"\",\"hashtag\":null,\"launch_service_provider\":{\"id\":121,\"url\":\"https://ll.thespacedevs.com/2.2.0/agencies/121/\",\"name\":\"SpaceX\",\"type\":\"Commercial\"},\"rocket\":{\"id\":7580,\"configuration\":{\"id\":164,\"url\":\"https://ll.thespacedevs.com/2.2.0/config/launcher/164/\",\"name\":\"Falcon 9\",\"family\":\"Falcon\",\"full_name\":\"Falcon 9 Block 5\",\"variant\":\"Block 5\"}},\"mission\":{\"id\":6022,\"name\":\"Starlink Group 4-26\",\"description\":\"A batch of 52 satellites for Starlink mega-constellation - SpaceX's project for space-based Internet communication system.\",\"launch_designator\":null,\"type\":\"Communications\",\"orbit\":{\"id\":8,\"name\":\"Low Earth Orbit\",\"abbrev\":\"LEO\"}},\"pad\":{\"id\":87,\"url\":\"https://ll.thespacedevs.com/2.2.0/pad/87/\",\"agency_id\":null,\"name\":\"Launch Complex 39A\",\"info_url\":null,\"wiki_url\":\"https://en.wikipedia.org/wiki/Kennedy_Space_Center_Launch_Complex_39#Launch_Pad_39A\",\"map_url\":\"http://maps.google.com/maps?q=28.608+N,+80.604+W\",\"latitude\":\"28.60822681\",\"longitude\":\"-80.60428186\",\"location\":{\"id\":27,\"url\":\"https://ll.thespacedevs.com/2.2.0/location/27/\",\"name\":\"Kennedy Space Center, FL, USA\",\"country_code\":\"USA\",\"map_image\":\"https://spacelaunchnow-prod-east.nyc3.digitaloceanspaces.com/media/launch_images/location_27_20200803142447.jpg\",\"total_launch_count\":205,\"total_landing_count\":0},\"map_image\":\"https://spacelaunchnow-prod-east.nyc3.digitaloceanspaces.com/media/launch_images/pad_87_20200803143537.jpg\",\"total_launch_count\":148},\"webcast_live\":true,\"image\":\"https://spacelaunchnow-prod-east.nyc3.digitaloceanspaces.com/media/launch_images/falcon2520925_image_20220523085338.png\",\"infographic\":null,\"program\":[]},{\"id\":\"48273e95-ecac-4cf7-83b1-408182794bfc\",\"url\":\"https://ll.thespacedevs.com/2.2.0/launch/48273e95-ecac-4cf7-83b1-408182794bfc/\",\"slug\":\"long-march-6-jilin-1-high-resolution-03d-09-35-to\",\"name\":\"Long March 6 | Jilin-1 High Resolution 03D-09, 35 to 43 & Infrared A01 to 06\",\"status\":{\"id\":3,\"name\":\"Launch Successful\",\"abbrev\":\"Success\",\"description\":\"The launch vehicle successfully inserted its payload(s) into the target orbit(s).\"},\"last_updated\":\"2022-08-10T05:52:10Z\",\"net\":\"2022-08-10T04:50:00Z\",\"window_end\":\"2022-08-10T05:21:00Z\",\"window_start\":\"2022-08-10T04:43:00Z\",\"probability\":null,\"holdreason\":\"\",\"failreason\":\"\",\"hashtag\":null,\"launch_service_provider\":{\"id\":88,\"url\":\"https://ll.thespacedevs.com/2.2.0/agencies/88/\",\"name\":\"China Aerospace Science and Technology Corporation\",\"type\":\"Government\"},\"rocket\":{\"id\":2682,\"configuration\":{\"id\":54,\"url\":\"https://ll.thespacedevs.com/2.2.0/config/launcher/54/\",\"name\":\"Long March 6\",\"family\":\"Long March 6\",\"full_name\":\"Long March 6\",\"variant\":\"\"}},\"mission\":{\"id\":6120,\"name\":\"Jilin-1 High Resolution 03D-09, 35 to 43 & Infrared A01 to 06\",\"description\":\"16 new Earth observation satellites for the Jilin-1 commercial Earth observation satellites constellation.\",\"launch_designator\":null,\"type\":\"Earth Science\",\"orbit\":{\"id\":17,\"name\":\"Sun-Synchronous Orbit\",\"abbrev\":\"SSO\"}},\"pad\":{\"id\":113,\"url\":\"https://ll.thespacedevs.com/2.2.0/pad/113/\",\"agency_id\":null,\"name\":\"Launch Complex 16\",\"info_url\":null,\"wiki_url\":null,\"map_url\":\"http://maps.google.com/maps?q=38.868222+N,+111.580240+E\",\"latitude\":\"38.868222\",\"longitude\":\"111.58024\",\"location\":{\"id\":19,\"url\":\"https://ll.thespacedevs.com/2.2.0/location/19/\",\"name\":\"Taiyuan, People's Republic of China\",\"country_code\":\"CHN\",\"map_image\":\"https://spacelaunchnow-prod-east.nyc3.digitaloceanspaces.com/media/launch_images/location_19_20200803142421.jpg\",\"total_launch_count\":110,\"total_landing_count\":0},\"map_image\":\"https://spacelaunchnow-prod-east.nyc3.digitaloceanspaces.com/media/launch_images/pad_113_20200803143556.jpg\",\"total_launch_count\":10},\"webcast_live\":false,\"image\":\"https://spacelaunchnow-prod-east.nyc3.digitaloceanspaces.com/media/launcher_images/long_march_6_image_20210709074933.jpg\",\"infographic\":null,\"program\":[]},{\"id\":\"4f2c5733-5019-4f7a-8403-15a1a270bf96\",\"url\":\"https://ll.thespacedevs.com/2.2.0/launch/4f2c5733-5019-4f7a-8403-15a1a270bf96/\",\"slug\":\"falcon-9-block-5-starlink-group-3-3\",\"name\":\"Falcon 9 Block 5 | Starlink Group 3-3\",\"status\":{\"id\":8,\"name\":\"To Be Confirmed\",\"abbrev\":\"TBC\",\"description\":\"Awaiting official confirmation - current date is known with some certainty.\"},\"last_updated\":\"2022-08-10T08:39:47Z\",\"net\":\"2022-08-12T21:40:20Z\",\"window_end\":\"2022-08-12T21:40:20Z\",\"window_start\":\"2022-08-12T21:40:20Z\",\"probability\":null,\"holdreason\":\"\",\"failreason\":\"\",\"hashtag\":null,\"launch_service_provider\":{\"id\":121,\"url\":\"https://ll.thespacedevs.com/2.2.0/agencies/121/\",\"name\":\"SpaceX\",\"type\":\"Commercial\"},\"rocket\":{\"id\":7613,\"configuration\":{\"id\":164,\"url\":\"https://ll.thespacedevs.com/2.2.0/config/launcher/164/\",\"name\":\"Falcon 9\",\"family\":\"Falcon\",\"full_name\":\"Falcon 9 Block 5\",\"variant\":\"Block 5\"}},\"mission\":{\"id\":6100,\"name\":\"Starlink Group 3-3\",\"description\":\"A batch of 53 satellites for Starlink mega-constellation - SpaceX's project for space-based Internet communication system.\",\"launch_designator\":null,\"type\":\"Communications\",\"orbit\":{\"id\":8,\"name\":\"Low Earth Orbit\",\"abbrev\":\"LEO\"}},\"pad\":{\"id\":16,\"url\":\"https://ll.thespacedevs.com/2.2.0/pad/16/\",\"agency_id\":null,\"name\":\"Space Launch Complex 4E\",\"info_url\":null,\"wiki_url\":\"\",\"map_url\":\"http://maps.google.com/maps?q=34.632+N,+120.611+W\",\"latitude\":\"34.632\",\"longitude\":\"-120.611\",\"location\":{\"id\":11,\"url\":\"https://ll.thespacedevs.com/2.2.0/location/11/\",\"name\":\"Vandenberg SFB, CA, USA\",\"country_code\":\"USA\",\"map_image\":\"https://spacelaunchnow-prod-east.nyc3.digitaloceanspaces.com/media/launch_images/location_11_20200803142416.jpg\",\"total_launch_count\":700,\"total_landing_count\":6},\"map_image\":\"https://spacelaunchnow-prod-east.nyc3.digitaloceanspaces.com/media/launch_images/pad_16_20200803143532.jpg\",\"total_launch_count\":94},\"webcast_live\":false,\"image\":\"https://spacelaunchnow-prod-east.nyc3.digitaloceanspaces.com/media/launch_images/falcon2520925_image_20220630114044.png\",\"infographic\":null,\"program\":[]},{\"id\":\"4a114237-e8c5-4248-8d30-7a9026b86430\",\"url\":\"https://ll.thespacedevs.com/2.2.0/launch/4a114237-e8c5-4248-8d30-7a9026b86430/\",\"slug\":\"falcon-9-block-5-starlink-group-4-27\",\"name\":\"Falcon 9 Block 5 | Starlink Group 4-27\",\"status\":{\"id\":2,\"name\":\"To Be Determined\",\"abbrev\":\"TBD\",\"description\":\"Current date is a placeholder or rough estimation based on unreliable or interpreted sources.\"},\"last_updated\":\"2022-08-10T08:38:21Z\",\"net\":\"2022-08-16T00:00:00Z\",\"window_end\":\"2022-08-16T00:00:00Z\",\"window_start\":\"2022-08-16T00:00:00Z\",\"probability\":null,\"holdreason\":\"\",\"failreason\":\"\",\"hashtag\":null,\"launch_service_provider\":{\"id\":121,\"url\":\"https://ll.thespacedevs.com/2.2.0/agencies/121/\",\"name\":\"SpaceX\",\"type\":\"Commercial\"},\"rocket\":{\"id\":7617,\"configuration\":{\"id\":164,\"url\":\"https://ll.thespacedevs.com/2.2.0/config/launcher/164/\",\"name\":\"Falcon 9\",\"family\":\"Falcon\",\"full_name\":\"Falcon 9 Block 5\",\"variant\":\"Block 5\"}},\"mission\":{\"id\":6107,\"name\":\"Starlink Group 4-27\",\"description\":\"A batch of 53 satellites for Starlink mega-constellation - SpaceX's project for space-based Internet communication system.\",\"launch_designator\":null,\"type\":\"Communications\",\"orbit\":{\"id\":8,\"name\":\"Low Earth Orbit\",\"abbrev\":\"LEO\"}},\"pad\":{\"id\":80,\"url\":\"https://ll.thespacedevs.com/2.2.0/pad/80/\",\"agency_id\":121,\"name\":\"Space Launch Complex 40\",\"info_url\":null,\"wiki_url\":\"https://en.wikipedia.org/wiki/Cape_Canaveral_Air_Force_Station_Space_Launch_Complex_40\",\"map_url\":\"http://maps.google.com/maps?q=28.56194122,-80.57735736\",\"latitude\":\"28.56194122\",\"longitude\":\"-80.57735736\",\"location\":{\"id\":12,\"url\":\"https://ll.thespacedevs.com/2.2.0/location/12/\",\"name\":\"Cape Canaveral, FL, USA\",\"country_code\":\"USA\",\"map_image\":\"https://spacelaunchnow-prod-east.nyc3.digitaloceanspaces.com/media/launch_images/location_12_20200803142519.jpg\",\"total_launch_count\":853,\"total_landing_count\":24},\"map_image\":\"https://spacelaunchnow-prod-east.nyc3.digitaloceanspaces.com/media/launch_images/pad_80_20200803143323.jpg\",\"total_launch_count\":149},\"webcast_live\":false,\"image\":\"https://spacelaunchnow-prod-east.nyc3.digitaloceanspaces.com/media/launch_images/falcon2520925_image_20220722151528.png\",\"infographic\":null,\"program\":[]},{\"id\":\"67158b3c-201d-4450-be8a-990010c05b40\",\"url\":\"https://ll.thespacedevs.com/2.2.0/launch/67158b3c-201d-4450-be8a-990010c05b40/\",\"slug\":\"falcon-9-block-5-starlink-group-4-23\",\"name\":\"Falcon 9 Block 5 | Starlink Group 4-23\",\"status\":{\"id\":2,\"name\":\"To Be Determined\",\"abbrev\":\"TBD\",\"description\":\"Current date is a placeholder or rough estimation based on unreliable or interpreted sources.\"},\"last_updated\":\"2022-08-10T08:52:15Z\",\"net\":\"2022-08-24T00:00:00Z\",\"window_end\":\"2022-08-24T00:00:00Z\",\"window_start\":\"2022-08-24T00:00:00Z\",\"probability\":null,\"holdreason\":\"\",\"failreason\":\"\",\"hashtag\":null,\"launch_service_provider\":{\"id\":121,\"url\":\"https://ll.thespacedevs.com/2.2.0/agencies/121/\",\"name\":\"SpaceX\",\"type\":\"Commercial\"},\"rocket\":{\"id\":7616,\"configuration\":{\"id\":164,\"url\":\"https://ll.thespacedevs.com/2.2.0/config/launcher/164/\",\"name\":\"Falcon 9\",\"family\":\"Falcon\",\"full_name\":\"Falcon 9 Block 5\",\"variant\":\"Block 5\"}},\"mission\":{\"id\":6106,\"name\":\"Starlink Group 4-23\",\"description\":\"A batch of 53 satellites for Starlink mega-constellation - SpaceX's project for space-based Internet communication system.\",\"launch_designator\":null,\"type\":\"Communications\",\"orbit\":{\"id\":8,\"name\":\"Low Earth Orbit\",\"abbrev\":\"LEO\"}},\"pad\":{\"id\":72,\"url\":\"https://ll.thespacedevs.com/2.2.0/pad/72/\",\"agency_id\":null,\"name\":\"Unknown Pad\",\"info_url\":null,\"wiki_url\":\"\",\"map_url\":\"\",\"latitude\":\"28.458\",\"longitude\":\"-80.528\",\"location\":{\"id\":12,\"url\":\"https://ll.thespacedevs.com/2.2.0/location/12/\",\"name\":\"Cape Canaveral, FL, USA\",\"country_code\":\"USA\",\"map_image\":\"https://spacelaunchnow-prod-east.nyc3.digitaloceanspaces.com/media/launch_images/location_12_20200803142519.jpg\",\"total_launch_count\":853,\"total_landing_count\":24},\"map_image\":\"https://spacelaunchnow-prod-east.nyc3.digitaloceanspaces.com/media/launch_images/pad_72_20200803143403.jpg\",\"total_launch_count\":0},\"webcast_live\":false,\"image\":\"https://spacelaunchnow-prod-east.nyc3.digitaloceanspaces.com/media/launch_images/falcon2520925_image_20220722061450.png\",\"infographic\":null,\"program\":[]},{\"id\":\"65896761-b6ca-4df3-9699-e077a360c52a\",\"url\":\"https://ll.thespacedevs.com/2.2.0/launch/65896761-b6ca-4df3-9699-e077a360c52a/\",\"slug\":\"sls-block-1-artemis-1\",\"name\":\"SLS Block 1 | Artemis-1\",\"status\":{\"id\":8,\"name\":\"To Be Confirmed\",\"abbrev\":\"TBC\",\"description\":\"Awaiting official confirmation - current date is known with some certainty.\"},\"last_updated\":\"2022-07-21T05:00:21Z\",\"net\":\"2022-08-29T12:33:00Z\",\"window_end\":\"2022-08-29T14:33:00Z\",\"window_start\":\"2022-08-29T12:33:00Z\",\"probability\":-1,\"holdreason\":\"\",\"failreason\":\"\",\"hashtag\":null,\"launch_service_provider\":{\"id\":44,\"url\":\"https://ll.thespacedevs.com/2.2.0/agencies/44/\",\"name\":\"National Aeronautics and Space Administration\",\"type\":\"Government\"},\"rocket\":{\"id\":150,\"configuration\":{\"id\":143,\"url\":\"https://ll.thespacedevs.com/2.2.0/config/launcher/143/\",\"name\":\"Space Launch System (SLS)\",\"family\":\"SLS\",\"full_name\":\"Space Launch System (SLS)\",\"variant\":\"\"}},\"mission\":{\"id\":688,\"name\":\"Artemis-1\",\"description\":\"Artemis-1 (previously Exploration Mission 1) is the first flight on Space Launch System and the second flight of Orion crew spacecraft. Mission is planned to be an uncrewed circumlunar flight.\",\"launch_designator\":null,\"type\":\"Human Exploration\",\"orbit\":{\"id\":11,\"name\":\"Lunar Orbit\",\"abbrev\":\"LO\"}},\"pad\":{\"id\":4,\"url\":\"https://ll.thespacedevs.com/2.2.0/pad/4/\",\"agency_id\":44,\"name\":\"Launch Complex 39B\",\"info_url\":null,\"wiki_url\":\"https://en.wikipedia.org/wiki/Kennedy_Space_Center_Launch_Complex_39#Launch_Pad_39B\",\"map_url\":\"http://maps.google.com/maps?q=28.627+N,+80.621+W\",\"latitude\":\"28.62711233\",\"longitude\":\"-80.62101503\",\"location\":{\"id\":27,\"url\":\"https://ll.thespacedevs.com/2.2.0/location/27/\",\"name\":\"Kennedy Space Center, FL, USA\",\"country_code\":\"USA\",\"map_image\":\"https://spacelaunchnow-prod-east.nyc3.digitaloceanspaces.com/media/launch_images/location_27_20200803142447.jpg\",\"total_launch_count\":205,\"total_landing_count\":0},\"map_image\":\"https://spacelaunchnow-prod-east.nyc3.digitaloceanspaces.com/media/launch_images/pad_4_20200803143518.jpg\",\"total_launch_count\":57},\"webcast_live\":false,\"image\":\"https://spacelaunchnow-prod-east.nyc3.digitaloceanspaces.com/media/launcher_images/space_launch_sy_image_20220331082429.jpeg\",\"infographic\":null,\"program\":[{\"id\":15,\"url\":\"https://ll.thespacedevs.com/2.2.0/program/15/\",\"name\":\"Artemis\",\"description\":\"The Artemis program is a US government-funded crewed spaceflight program that has the goal of landing \\\"the first woman and the next man\\\" on the Moon, specifically at the lunar south pole region by 2024.\",\"agencies\":[{\"id\":44,\"url\":\"https://ll.thespacedevs.com/2.2.0/agencies/44/\",\"name\":\"National Aeronautics and Space Administration\",\"type\":\"Government\"}],\"image_url\":\"https://spacelaunchnow-prod-east.nyc3.digitaloceanspaces.com/media/program_images/artemis_program_20200821091844.png\",\"start_date\":\"2017-12-11T00:00:00Z\",\"end_date\":null,\"info_url\":\"https://www.nasa.gov/specials/artemis/\",\"wiki_url\":\"https://en.wikipedia.org/wiki/Artemis_program\",\"mission_patches\":[]}]},{\"id\":\"06066a71-c5fd-48d1-a7c9-13fe82ded736\",\"url\":\"https://ll.thespacedevs.com/2.2.0/launch/06066a71-c5fd-48d1-a7c9-13fe82ded736/\",\"slug\":\"rs1-maiden-flight\",\"name\":\"RS1 | Maiden Flight\",\"status\":{\"id\":8,\"name\":\"To Be Confirmed\",\"abbrev\":\"TBC\",\"description\":\"Awaiting official confirmation - current date is known with some certainty.\"},\"last_updated\":\"2022-08-10T09:12:26Z\",\"net\":\"2022-08-29T18:00:00Z\",\"window_end\":\"2022-08-29T21:30:00Z\",\"window_start\":\"2022-08-29T18:00:00Z\",\"probability\":null,\"holdreason\":\"\",\"failreason\":\"\",\"hashtag\":null,\"launch_service_provider\":{\"id\":1030,\"url\":\"https://ll.thespacedevs.com/2.2.0/agencies/1030/\",\"name\":\"ABL Space Systems\",\"type\":\"Commercial\"},\"rocket\":{\"id\":7478,\"configuration\":{\"id\":475,\"url\":\"https://ll.thespacedevs.com/2.2.0/config/launcher/475/\",\"name\":\"RS1\",\"family\":\"RS\",\"full_name\":\"RS1\",\"variant\":\"1\"}},\"mission\":{\"id\":5878,\"name\":\"Maiden Flight\",\"description\":\"This is the first launch of RS1 launch vehicle developed and built by ABL Space Systems. This launch carries two satellites for L2 Aerospace.\",\"launch_designator\":null,\"type\":\"Test Flight\",\"orbit\":{\"id\":8,\"name\":\"Low Earth Orbit\",\"abbrev\":\"LEO\"}},\"pad\":{\"id\":199,\"url\":\"https://ll.thespacedevs.com/2.2.0/pad/199/\",\"agency_id\":null,\"name\":\"Launch Pad 3C\",\"info_url\":null,\"wiki_url\":\"https://en.wikipedia.org/wiki/Pacific_Spaceport_Complex_%E2%80%93_Alaska\",\"map_url\":\"https://www.google.ee/maps/search/57.431239,-152.350749\",\"latitude\":\"57.431239\",\"longitude\":\"-152.350749\",\"location\":{\"id\":25,\"url\":\"https://ll.thespacedevs.com/2.2.0/location/25/\",\"name\":\"Pacific Spaceport Complex, Alaska, USA\",\"country_code\":\"USA\",\"map_image\":\"https://spacelaunchnow-prod-east.nyc3.digitaloceanspaces.com/media/launch_images/location_25_20200803142500.jpg\",\"total_launch_count\":8,\"total_landing_count\":0},\"map_image\":\"https://spacelaunchnow-prod-east.nyc3.digitaloceanspaces.com/media/launch_images/pad_launch_pad_3c_20211102190331.jpg\",\"total_launch_count\":0},\"webcast_live\":false,\"image\":\"https://spacelaunchnow-prod-east.nyc3.digitaloceanspaces.com/media/launcher_images/rs1_image_20211102160004.jpg\",\"infographic\":null,\"program\":[]},{\"id\":\"25d652f7-7e20-42d5-967e-b8e01305746c\",\"url\":\"https://ll.thespacedevs.com/2.2.0/launch/25d652f7-7e20-42d5-967e-b8e01305746c/\",\"slug\":\"terran-1-maiden-flight\",\"name\":\"Terran 1 | Maiden Flight\",\"status\":{\"id\":2,\"name\":\"To Be Determined\",\"abbrev\":\"TBD\",\"description\":\"Current date is a placeholder or rough estimation based on unreliable or interpreted sources.\"},\"last_updated\":\"2022-07-14T01:41:23Z\",\"net\":\"2022-08-31T00:00:00Z\",\"window_end\":\"2022-08-31T00:00:00Z\",\"window_start\":\"2022-08-31T00:00:00Z\",\"probability\":-1,\"holdreason\":\"\",\"failreason\":\"\",\"hashtag\":null,\"launch_service_provider\":{\"id\":266,\"url\":\"https://ll.thespacedevs.com/2.2.0/agencies/266/\",\"name\":\"Relativity Space\",\"type\":null},\"rocket\":{\"id\":2212,\"configuration\":{\"id\":180,\"url\":\"https://ll.thespacedevs.com/2.2.0/config/launcher/180/\",\"name\":\"Terran 1\",\"family\":\"Terran\",\"full_name\":\"Terran 1\",\"variant\":\"1\"}},\"mission\":{\"id\":969,\"name\":\"Good Luck, Have Fun\",\"description\":\"Maiden launch of the Terran 1 rocket developed by Relativity Space.\",\"launch_designator\":null,\"type\":\"Test Flight\",\"orbit\":{\"id\":8,\"name\":\"Low Earth Orbit\",\"abbrev\":\"LEO\"}},\"pad\":{\"id\":92,\"url\":\"https://ll.thespacedevs.com/2.2.0/pad/92/\",\"agency_id\":161,\"name\":\"Launch Complex 16\",\"info_url\":null,\"wiki_url\":\"https://en.wikipedia.org/wiki/Cape_Canaveral_Air_Force_Station_Launch_Complex_16\",\"map_url\":\"http://www.google.com/maps?q=28.501626,-80.5518\",\"latitude\":\"28.501626\",\"longitude\":\"-80.5518\",\"location\":{\"id\":12,\"url\":\"https://ll.thespacedevs.com/2.2.0/location/12/\",\"name\":\"Cape Canaveral, FL, USA\",\"country_code\":\"USA\",\"map_image\":\"https://spacelaunchnow-prod-east.nyc3.digitaloceanspaces.com/media/launch_images/location_12_20200803142519.jpg\",\"total_launch_count\":853,\"total_landing_count\":24},\"map_image\":\"https://spacelaunchnow-prod-east.nyc3.digitaloceanspaces.com/media/launch_images/pad_92_20200803143523.jpg\",\"total_launch_count\":0},\"webcast_live\":false,\"image\":\"https://spacelaunchnow-prod-east.nyc3.digitaloceanspaces.com/media/launcher_images/terran_1_image_20220129191632.jpg\",\"infographic\":null,\"program\":[]},{\"id\":\"576b04d6-1962-4bda-b43f-0da4138d192d\",\"url\":\"https://ll.thespacedevs.com/2.2.0/launch/576b04d6-1962-4bda-b43f-0da4138d192d/\",\"slug\":\"falcon-9-block-5-starlink-group-3-4\",\"name\":\"Falcon 9 Block 5 | Starlink Group 3-4\",\"status\":{\"id\":2,\"name\":\"To Be Determined\",\"abbrev\":\"TBD\",\"description\":\"Current date is a placeholder or rough estimation based on unreliable or interpreted sources.\"},\"last_updated\":\"2022-08-03T02:44:17Z\",\"net\":\"2022-08-31T00:00:00Z\",\"window_end\":\"2022-08-31T00:00:00Z\",\"window_start\":\"2022-08-31T00:00:00Z\",\"probability\":null,\"holdreason\":\"\",\"failreason\":\"\",\"hashtag\":null,\"launch_service_provider\":{\"id\":121,\"url\":\"https://ll.thespacedevs.com/2.2.0/agencies/121/\",\"name\":\"SpaceX\",\"type\":\"Commercial\"},\"rocket\":{\"id\":7619,\"configuration\":{\"id\":164,\"url\":\"https://ll.thespacedevs.com/2.2.0/config/launcher/164/\",\"name\":\"Falcon 9\",\"family\":\"Falcon\",\"full_name\":\"Falcon 9 Block 5\",\"variant\":\"Block 5\"}},\"mission\":{\"id\":6117,\"name\":\"Starlink Group 3-4\",\"description\":\"A batch of 46 satellites for Starlink mega-constellation - SpaceX's project for space-based Internet communication system.\",\"launch_designator\":null,\"type\":\"Communications\",\"orbit\":{\"id\":8,\"name\":\"Low Earth Orbit\",\"abbrev\":\"LEO\"}},\"pad\":{\"id\":16,\"url\":\"https://ll.thespacedevs.com/2.2.0/pad/16/\",\"agency_id\":null,\"name\":\"Space Launch Complex 4E\",\"info_url\":null,\"wiki_url\":\"\",\"map_url\":\"http://maps.google.com/maps?q=34.632+N,+120.611+W\",\"latitude\":\"34.632\",\"longitude\":\"-120.611\",\"location\":{\"id\":11,\"url\":\"https://ll.thespacedevs.com/2.2.0/location/11/\",\"name\":\"Vandenberg SFB, CA, USA\",\"country_code\":\"USA\",\"map_image\":\"https://spacelaunchnow-prod-east.nyc3.digitaloceanspaces.com/media/launch_images/location_11_20200803142416.jpg\",\"total_launch_count\":700,\"total_landing_count\":6},\"map_image\":\"https://spacelaunchnow-prod-east.nyc3.digitaloceanspaces.com/media/launch_images/pad_16_20200803143532.jpg\",\"total_launch_count\":94},\"webcast_live\":false,\"image\":\"https://spacelaunchnow-prod-east.nyc3.digitaloceanspaces.com/media/launch_images/falcon2520925_image_20220803024417.png\",\"infographic\":null,\"program\":[]},{\"id\":\"84bf3b54-96ca-4ac4-bbaf-e25ed03e831c\",\"url\":\"https://ll.thespacedevs.com/2.2.0/launch/84bf3b54-96ca-4ac4-bbaf-e25ed03e831c/\",\"slug\":\"falcon-9-block-5-starlink-group-4-20\",\"name\":\"Falcon 9 Block 5 | Starlink Group 4-20\",\"status\":{\"id\":2,\"name\":\"To Be Determined\",\"abbrev\":\"TBD\",\"description\":\"Current date is a placeholder or rough estimation based on unreliable or interpreted sources.\"},\"last_updated\":\"2022-08-04T06:33:22Z\",\"net\":\"2022-08-31T00:00:00Z\",\"window_end\":\"2022-08-31T00:00:00Z\",\"window_start\":\"2022-08-31T00:00:00Z\",\"probability\":null,\"holdreason\":\"\",\"failreason\":\"\",\"hashtag\":null,\"launch_service_provider\":{\"id\":121,\"url\":\"https://ll.thespacedevs.com/2.2.0/agencies/121/\",\"name\":\"SpaceX\",\"type\":\"Commercial\"},\"rocket\":{\"id\":7586,\"configuration\":{\"id\":164,\"url\":\"https://ll.thespacedevs.com/2.2.0/config/launcher/164/\",\"name\":\"Falcon 9\",\"family\":\"Falcon\",\"full_name\":\"Falcon 9 Block 5\",\"variant\":\"Block 5\"}},\"mission\":{\"id\":6028,\"name\":\"Starlink Group 4-20\",\"description\":\"A batch of 53 satellites for Starlink mega-constellation - SpaceX's project for space-based Internet communication system.\",\"launch_designator\":null,\"type\":\"Communications\",\"orbit\":{\"id\":8,\"name\":\"Low Earth Orbit\",\"abbrev\":\"LEO\"}},\"pad\":{\"id\":72,\"url\":\"https://ll.thespacedevs.com/2.2.0/pad/72/\",\"agency_id\":null,\"name\":\"Unknown Pad\",\"info_url\":null,\"wiki_url\":\"\",\"map_url\":\"\",\"latitude\":\"28.458\",\"longitude\":\"-80.528\",\"location\":{\"id\":12,\"url\":\"https://ll.thespacedevs.com/2.2.0/location/12/\",\"name\":\"Cape Canaveral, FL, USA\",\"country_code\":\"USA\",\"map_image\":\"https://spacelaunchnow-prod-east.nyc3.digitaloceanspaces.com/media/launch_images/location_12_20200803142519.jpg\",\"total_launch_count\":853,\"total_landing_count\":24},\"map_image\":\"https://spacelaunchnow-prod-east.nyc3.digitaloceanspaces.com/media/launch_images/pad_72_20200803143403.jpg\",\"total_launch_count\":0},\"webcast_live\":false,\"image\":\"https://spacelaunchnow-prod-east.nyc3.digitaloceanspaces.com/media/launch_images/falcon2520925_image_20220523091143.png\",\"infographic\":null,\"program\":[]}]}\n"
     ]
    },
    {
     "name": "stderr",
     "output_type": "stream",
     "text": [
      "  % Total    % Received % Xferd  Average Speed   Time    Time     Time  Current\n",
      "                                 Dload  Upload   Total   Spent    Left  Speed\n",
      "\n",
      "  0     0    0     0    0     0      0      0 --:--:-- --:--:-- --:--:--     0\n",
      "  0     0    0     0    0     0      0      0 --:--:-- --:--:-- --:--:--     0\n",
      "  0     0    0     0    0     0      0      0 --:--:-- --:--:-- --:--:--     0\n",
      "\n",
      "100 22311  100 22311    0     0  20468      0  0:00:01  0:00:01 --:--:-- 20468\n"
     ]
    }
   ],
   "source": [
    "# Launch Library API에 대한 curl 요청 및 응답\n",
    "!curl -L \"https://ll.thespacedevs.com/2.2.0/launch/upcoming\""
   ]
  },
  {
   "cell_type": "markdown",
   "id": "2c5b2a26",
   "metadata": {},
   "source": [
    "## Airflow DAG 작성"
   ]
  },
  {
   "cell_type": "markdown",
   "id": "5fa8f226",
   "metadata": {},
   "source": [
    "1. pathlib\n",
    "- pathlib 모듈의 기본 아이디어는 파일시스템 경로를 단순한 문자열이 아니라 객체로 다루자는 것\n",
    "- 연산자를 새롭게 정의할 수 있게 되었다는 점\n",
    "- 출처 : https://brownbears.tistory.com/415"
   ]
  },
  {
   "cell_type": "code",
   "execution_count": 6,
   "id": "65440cba",
   "metadata": {
    "ExecuteTime": {
     "end_time": "2022-08-10T11:52:53.209203Z",
     "start_time": "2022-08-10T11:52:53.015154Z"
    }
   },
   "outputs": [
    {
     "ename": "ModuleNotFoundError",
     "evalue": "No module named 'airflow'",
     "output_type": "error",
     "traceback": [
      "\u001b[1;31m---------------------------------------------------------------------------\u001b[0m",
      "\u001b[1;31mModuleNotFoundError\u001b[0m                       Traceback (most recent call last)",
      "\u001b[1;32m<ipython-input-6-8d14b8da9d17>\u001b[0m in \u001b[0;36m<module>\u001b[1;34m\u001b[0m\n\u001b[0;32m      2\u001b[0m \u001b[1;32mimport\u001b[0m \u001b[0mpathlib\u001b[0m\u001b[1;33m\u001b[0m\u001b[1;33m\u001b[0m\u001b[0m\n\u001b[0;32m      3\u001b[0m \u001b[1;33m\u001b[0m\u001b[0m\n\u001b[1;32m----> 4\u001b[1;33m \u001b[1;32mimport\u001b[0m \u001b[0mairflow\u001b[0m\u001b[1;33m.\u001b[0m\u001b[0mutils\u001b[0m\u001b[1;33m.\u001b[0m\u001b[0mdates\u001b[0m\u001b[1;33m\u001b[0m\u001b[1;33m\u001b[0m\u001b[0m\n\u001b[0m\u001b[0;32m      5\u001b[0m \u001b[1;32mimport\u001b[0m \u001b[0mrequests\u001b[0m\u001b[1;33m\u001b[0m\u001b[1;33m\u001b[0m\u001b[0m\n\u001b[0;32m      6\u001b[0m \u001b[1;32mimport\u001b[0m \u001b[0mrequests\u001b[0m\u001b[1;33m.\u001b[0m\u001b[0mexceptions\u001b[0m \u001b[1;32mas\u001b[0m \u001b[0mrequests_exceptions\u001b[0m\u001b[1;33m\u001b[0m\u001b[1;33m\u001b[0m\u001b[0m\n",
      "\u001b[1;31mModuleNotFoundError\u001b[0m: No module named 'airflow'"
     ]
    }
   ],
   "source": [
    "import json\n",
    "import pathlib\n",
    "\n",
    "import airflow.utils.dates\n",
    "import requests\n",
    "import requests.exceptions as requests_exceptions\n",
    "from airflow import DAG\n",
    "from airflow.operators.bash import BashOperator\n",
    "from airflow.operators.python import PythonOperator\n",
    "\n",
    "# DAG 객체 인스턴스 생성 \n",
    "dag = DAG( # DAG 클래스는 두 개의 인수가 필요 \n",
    "    dag_id=\"download_rocket_launches\", # Airflow UI에 표시되는 DAG 이름 \n",
    "    description=\"Download rocket pictures of recently launched rockets.\",\n",
    "    start_date=airflow.utils.dates.days_ago(14), # DAG 처음 실행 시작 날짜\n",
    "    schedule_interval=None, # DAG 실행 간격, None으로 설정해 DAG가 자동으로 실행되지 않음 \n",
    ")\n",
    "\n",
    "download_launches = BashOperator( # BashOperator 이용해 curl로 URL 결과값 다운로드\n",
    "    task_id=\"download_launches\", # 태스크 이름 \n",
    "    bash_command=\"curl -o /tmp/launches.json -L 'https://ll.thespacedevs.com/2.0.0/launch/upcoming'\",  # noqa: E501\n",
    "    dag=dag, # DAG 변수에 대한 참조 \n",
    ")\n",
    "\n",
    "# 결과값 파싱 및 모든 로켓 사진 다운로드 \n",
    "def _get_pictures(): # 호풀 파이썬 함수 \n",
    "    # Ensure directory exists\n",
    "    pathlib.Path(\"/tmp/images\").mkdir(parents=True, exist_ok=True) # 경로가 없으면 디렉토리 생성\n",
    "\n",
    "    # Download all pictures in launches.json\n",
    "    with open(\"/tmp/launches.json\") as f: # 로켓 발사 JSON 파일 열기 \n",
    "        launches = json.load(f) # 딕셔너리로 읽기\n",
    "        image_urls = [launch[\"image\"] for launch in launches[\"results\"]] # 모든 발사에 대한 'image'의 URL 값 읽기\n",
    "        for image_url in image_urls: # 모든 이미지 URL을 얻기 위한 루프 \n",
    "            try:\n",
    "                response = requests.get(image_url) # 이미지 가져오기 \n",
    "                image_filename = image_url.split(\"/\")[-1] # 마지막 파일 이름만 가져오기\n",
    "                target_file = f\"/tmp/images/{image_filename}\" # 타겟 파일 저장 경로 구성\n",
    "                with open(target_file, \"wb\") as f: # 타겟 파일 핸들 열기\n",
    "                    f.write(response.content) # 파일 경로에 이미지 쓰기 \n",
    "                print(f\"Downloaded {image_url} to {target_file}\") # 결과 출력 \n",
    "            except requests_exceptions.MissingSchema:\n",
    "                print(f\"{image_url} appears to be an invalid URL.\")\n",
    "            except requests_exceptions.ConnectionError:\n",
    "                print(f\"Could not connect to {image_url}.\")\n",
    "\n",
    "\n",
    "get_pictures = PythonOperator(\n",
    "    task_id=\"get_pictures\", \n",
    "    python_callable=_get_pictures, #  인수에 호출이 가능한 일반 함수 가리킴 \n",
    "    dag=dag\n",
    ")\n",
    "\n",
    "notify = BashOperator(\n",
    "    task_id=\"notify\",\n",
    "    bash_command='echo \"There are now $(ls /tmp/images/ | wc -l) images.\"',\n",
    "    dag=dag,\n",
    ")\n",
    "\n",
    "download_launches >> get_pictures >> notify"
   ]
  },
  {
   "cell_type": "markdown",
   "id": "47efba9d",
   "metadata": {},
   "source": [
    "# Airflow DAG 실행\n",
    "\n",
    "1. shutil\n",
    "- Windows에서 파일 복사하기 위해 사용\n",
    "- 출처 : https://code.tutsplus.com/ko/tutorials/file-and-directory-operations-using-python--cms-25817\n",
    "\n",
    "2. os \n",
    "- dag 폴더 생성 위해 사용"
   ]
  },
  {
   "cell_type": "code",
   "execution_count": 12,
   "id": "d0eec456",
   "metadata": {
    "ExecuteTime": {
     "end_time": "2022-08-10T13:11:54.622469Z",
     "start_time": "2022-08-10T13:11:52.553471Z"
    }
   },
   "outputs": [
    {
     "name": "stderr",
     "output_type": "stream",
     "text": [
      "WARNING:root:OSError while attempting to symlink the latest log directory\n",
      "Traceback (most recent call last):\n",
      "  File \"C:\\Users\\canmanmo\\anaconda3\\envs\\airflow_book\\lib\\runpy.py\", line 193, in _run_module_as_main\n",
      "    \"__main__\", mod_spec)\n",
      "  File \"C:\\Users\\canmanmo\\anaconda3\\envs\\airflow_book\\lib\\runpy.py\", line 85, in _run_code\n",
      "    exec(code, run_globals)\n",
      "  File \"C:\\Users\\canmanmo\\anaconda3\\envs\\airflow_book\\Scripts\\airflow.exe\\__main__.py\", line 7, in <module>\n",
      "  File \"C:\\Users\\canmanmo\\anaconda3\\envs\\airflow_book\\lib\\site-packages\\airflow\\__main__.py\", line 38, in main\n",
      "    args.func(args)\n",
      "  File \"C:\\Users\\canmanmo\\anaconda3\\envs\\airflow_book\\lib\\site-packages\\airflow\\cli\\cli_parser.py\", line 50, in command\n",
      "    func = import_string(import_path)\n",
      "  File \"C:\\Users\\canmanmo\\anaconda3\\envs\\airflow_book\\lib\\site-packages\\airflow\\utils\\module_loading.py\", line 32, in import_string\n",
      "    module = import_module(module_path)\n",
      "  File \"C:\\Users\\canmanmo\\anaconda3\\envs\\airflow_book\\lib\\importlib\\__init__.py\", line 127, in import_module\n",
      "    return _bootstrap._gcd_import(name[level:], package, level)\n",
      "  File \"<frozen importlib._bootstrap>\", line 1006, in _gcd_import\n",
      "  File \"<frozen importlib._bootstrap>\", line 983, in _find_and_load\n",
      "  File \"<frozen importlib._bootstrap>\", line 967, in _find_and_load_unlocked\n",
      "  File \"<frozen importlib._bootstrap>\", line 677, in _load_unlocked\n",
      "  File \"<frozen importlib._bootstrap_external>\", line 728, in exec_module\n",
      "  File \"<frozen importlib._bootstrap>\", line 219, in _call_with_frames_removed\n",
      "  File \"C:\\Users\\canmanmo\\anaconda3\\envs\\airflow_book\\lib\\site-packages\\airflow\\cli\\commands\\webserver_command.py\", line 31, in <module>\n",
      "    import daemon\n",
      "  File \"C:\\Users\\canmanmo\\anaconda3\\envs\\airflow_book\\lib\\site-packages\\daemon\\__init__.py\", line 33, in <module>\n",
      "    from .daemon import DaemonContext\n",
      "  File \"C:\\Users\\canmanmo\\anaconda3\\envs\\airflow_book\\lib\\site-packages\\daemon\\daemon.py\", line 13, in <module>\n",
      "    import pwd\n",
      "ModuleNotFoundError: No module named 'pwd'\n",
      "WARNING:root:OSError while attempting to symlink the latest log directory\n",
      "Traceback (most recent call last):\n",
      "  File \"C:\\Users\\canmanmo\\anaconda3\\envs\\airflow_book\\lib\\runpy.py\", line 193, in _run_module_as_main\n",
      "    \"__main__\", mod_spec)\n",
      "  File \"C:\\Users\\canmanmo\\anaconda3\\envs\\airflow_book\\lib\\runpy.py\", line 85, in _run_code\n",
      "    exec(code, run_globals)\n",
      "  File \"C:\\Users\\canmanmo\\anaconda3\\envs\\airflow_book\\Scripts\\airflow.exe\\__main__.py\", line 7, in <module>\n",
      "  File \"C:\\Users\\canmanmo\\anaconda3\\envs\\airflow_book\\lib\\site-packages\\airflow\\__main__.py\", line 38, in main\n",
      "    args.func(args)\n",
      "  File \"C:\\Users\\canmanmo\\anaconda3\\envs\\airflow_book\\lib\\site-packages\\airflow\\cli\\cli_parser.py\", line 50, in command\n",
      "    func = import_string(import_path)\n",
      "  File \"C:\\Users\\canmanmo\\anaconda3\\envs\\airflow_book\\lib\\site-packages\\airflow\\utils\\module_loading.py\", line 32, in import_string\n",
      "    module = import_module(module_path)\n",
      "  File \"C:\\Users\\canmanmo\\anaconda3\\envs\\airflow_book\\lib\\importlib\\__init__.py\", line 127, in import_module\n",
      "    return _bootstrap._gcd_import(name[level:], package, level)\n",
      "  File \"<frozen importlib._bootstrap>\", line 1006, in _gcd_import\n",
      "  File \"<frozen importlib._bootstrap>\", line 983, in _find_and_load\n",
      "  File \"<frozen importlib._bootstrap>\", line 967, in _find_and_load_unlocked\n",
      "  File \"<frozen importlib._bootstrap>\", line 677, in _load_unlocked\n",
      "  File \"<frozen importlib._bootstrap_external>\", line 728, in exec_module\n",
      "  File \"<frozen importlib._bootstrap>\", line 219, in _call_with_frames_removed\n",
      "  File \"C:\\Users\\canmanmo\\anaconda3\\envs\\airflow_book\\lib\\site-packages\\airflow\\cli\\commands\\scheduler_command.py\", line 23, in <module>\n",
      "    import daemon\n",
      "  File \"C:\\Users\\canmanmo\\anaconda3\\envs\\airflow_book\\lib\\site-packages\\daemon\\__init__.py\", line 33, in <module>\n",
      "    from .daemon import DaemonContext\n",
      "  File \"C:\\Users\\canmanmo\\anaconda3\\envs\\airflow_book\\lib\\site-packages\\daemon\\daemon.py\", line 13, in <module>\n",
      "    import pwd\n",
      "ModuleNotFoundError: No module named 'pwd'\n"
     ]
    }
   ],
   "source": [
    "import shutil\n",
    "import os\n",
    "# !pip install apache-airflow\n",
    "# !airflow db init\n",
    "# !airflow user create --username admin --password admin --firstname Anonymous --lastname Adminn --role Admin --eamil addmin@example.org\n",
    "# os.mkdir('C:/Users/canmanmo/airflow/dags')\n",
    "# shutil.copy('C:/Users/canmanmo/Desktop/data-pipelines-with-apache-airflow-main/chapter02/dags/download_rocket_launches.py', 'C:/Users/canmanmo/airflow/dags/')\n",
    "!airflow webserver\n",
    "!airflow scheduler"
   ]
  },
  {
   "cell_type": "markdown",
   "id": "5d55b872",
   "metadata": {},
   "source": [
    "# Windows 10에서 pwd 라이브러리 실패로 다른 환경 구축!!"
   ]
  },
  {
   "cell_type": "markdown",
   "id": "14941438",
   "metadata": {},
   "source": [
    "# Reference\n",
    "\n",
    "1. 블로그(검색어)\n",
    "- https://www.leafcats.com/188 (curl 명령어)\n",
    "- https://brownbears.tistory.com/415 (pathlib)\n",
    "- https://code.tutsplus.com/ko/tutorials/file-and-directory-operations-using-python--cms-25817 (python window dir copy)"
   ]
  }
 ],
 "metadata": {
  "kernelspec": {
   "display_name": "Python 3 (ipykernel)",
   "language": "python",
   "name": "python3"
  },
  "language_info": {
   "codemirror_mode": {
    "name": "ipython",
    "version": 3
   },
   "file_extension": ".py",
   "mimetype": "text/x-python",
   "name": "python",
   "nbconvert_exporter": "python",
   "pygments_lexer": "ipython3",
   "version": "3.9.12"
  },
  "toc": {
   "base_numbering": 1,
   "nav_menu": {},
   "number_sections": true,
   "sideBar": true,
   "skip_h1_title": false,
   "title_cell": "Table of Contents",
   "title_sidebar": "Contents",
   "toc_cell": false,
   "toc_position": {},
   "toc_section_display": true,
   "toc_window_display": false
  },
  "varInspector": {
   "cols": {
    "lenName": 16,
    "lenType": 16,
    "lenVar": 40
   },
   "kernels_config": {
    "python": {
     "delete_cmd_postfix": "",
     "delete_cmd_prefix": "del ",
     "library": "var_list.py",
     "varRefreshCmd": "print(var_dic_list())"
    },
    "r": {
     "delete_cmd_postfix": ") ",
     "delete_cmd_prefix": "rm(",
     "library": "var_list.r",
     "varRefreshCmd": "cat(var_dic_list()) "
    }
   },
   "types_to_exclude": [
    "module",
    "function",
    "builtin_function_or_method",
    "instance",
    "_Feature"
   ],
   "window_display": false
  }
 },
 "nbformat": 4,
 "nbformat_minor": 5
}
