{
 "cells": [
  {
   "cell_type": "markdown",
   "id": "f701c208",
   "metadata": {},
   "source": [
    "# 문제 : \n",
    "1. Shopping basket은 고객(User_ID)와 상품 분류(CATEGORY_ID) 컬럼이 있는 Table\n",
    "- 고객 아이디가 동일한데 상품 분류가 여러 개 있다면 여러 종류의 상품을 장바구니에 담은 것임\n",
    "\n",
    "2. Shopping basket products는 상품 분류(CATE_ID)와 가격(PRICE) 컬럼이 있는 Table\n",
    "- 상품 분류가 동일한데 가격이 다르다면 다른 브랜드로 고려(EX. 상품 분류 : 전자기계, 가격 : 300, 500 등등)\n",
    "\n",
    "3. 고객 별 몇 종류의 상품을 담았고 총 가격을 구하시오"
   ]
  },
  {
   "cell_type": "markdown",
   "id": "1149ba40",
   "metadata": {},
   "source": [
    "# 테이블 예시"
   ]
  },
  {
   "attachments": {
    "image.png": {
     "image/png": "[encoded data removed]"
    }
   },
   "cell_type": "markdown",
   "id": "7892cfac",
   "metadata": {},
   "source": [
    "1. ![image.png](attachment:image.png)"
   ]
  },
  {
   "attachments": {
    "image.png": {
     "image/png": "[encoded data removed]"
    }
   },
   "cell_type": "markdown",
   "id": "192c3736",
   "metadata": {},
   "source": [
    "2. ![image.png](attachment:image.png)"
   ]
  },
  {
   "attachments": {
    "image.png": {
     "image/png": "[encoded data removed]"
    }
   },
   "cell_type": "markdown",
   "id": "516cc3c9",
   "metadata": {},
   "source": [
    "3. ![image.png](attachment:image.png)"
   ]
  },
  {
   "cell_type": "markdown",
   "id": "594fa921",
   "metadata": {},
   "source": [
    "# Python"
   ]
  },
  {
   "cell_type": "markdown",
   "id": "81570b56",
   "metadata": {},
   "source": [
    "- SQL보다는 Python 코드로 로직을 주로 짜왔으므로 Python으로 로직 작성 후 이를 SQL로 변환 "
   ]
  },
  {
   "cell_type": "code",
   "execution_count": 6,
   "id": "51198d31",
   "metadata": {
    "ExecuteTime": {
     "end_time": "2022-08-10T08:33:33.416747Z",
     "start_time": "2022-08-10T08:33:33.394753Z"
    }
   },
   "outputs": [
    {
     "data": {
      "text/html": [
       "<div>\n",
       "<style scoped>\n",
       "    .dataframe tbody tr th:only-of-type {\n",
       "        vertical-align: middle;\n",
       "    }\n",
       "\n",
       "    .dataframe tbody tr th {\n",
       "        vertical-align: top;\n",
       "    }\n",
       "\n",
       "    .dataframe thead th {\n",
       "        text-align: right;\n",
       "    }\n",
       "</style>\n",
       "<table border=\"1\" class=\"dataframe\">\n",
       "  <thead>\n",
       "    <tr style=\"text-align: right;\">\n",
       "      <th></th>\n",
       "      <th>USER_ID_COUNTS</th>\n",
       "      <th>USER_ID_PRICE</th>\n",
       "    </tr>\n",
       "    <tr>\n",
       "      <th>USER_ID</th>\n",
       "      <th></th>\n",
       "      <th></th>\n",
       "    </tr>\n",
       "  </thead>\n",
       "  <tbody>\n",
       "    <tr>\n",
       "      <th>3</th>\n",
       "      <td>2</td>\n",
       "      <td>20590</td>\n",
       "    </tr>\n",
       "    <tr>\n",
       "      <th>7</th>\n",
       "      <td>1</td>\n",
       "      <td>16030</td>\n",
       "    </tr>\n",
       "  </tbody>\n",
       "</table>\n",
       "</div>"
      ],
      "text/plain": [
       "         USER_ID_COUNTS  USER_ID_PRICE\n",
       "USER_ID                               \n",
       "3                     2          20590\n",
       "7                     1          16030"
      ]
     },
     "execution_count": 6,
     "metadata": {},
     "output_type": "execute_result"
    }
   ],
   "source": [
    "import pandas as pd\n",
    "\n",
    "# shopping basket table\n",
    "df = pd.DataFrame({'CATEGORY_ID' : [307, 500, 100], 'USER_ID' : [3, 7, 3]})\n",
    "\n",
    "# shopping basket products\n",
    "df2 = pd.DataFrame({'CATE_ID' : [307, 307, 500, 500, 500, 100, 100], 'PRICE' : [8700, 6990, 4780, 9990, 1260, 3400, 1500]})\n",
    "\n",
    "# 상품 분류 가격 총합\n",
    "df3 = df2.groupby('CATE_ID').sum().reset_index()\n",
    "\n",
    "# shopping basket table 기준으로 상품 분류 가격 총합 merge\n",
    "df4 = df.merge(df3, left_on='CATEGORY_ID', right_on='CATE_ID')\n",
    "\n",
    "# 최종 결과 \n",
    "df4.groupby('USER_ID').agg(USER_ID_COUNTS = ('USER_ID', 'count'), \n",
    "                           USER_ID_PRICE = ('PRICE', 'sum'))"
   ]
  },
  {
   "cell_type": "markdown",
   "id": "c4cf3315",
   "metadata": {
    "ExecuteTime": {
     "end_time": "2022-08-10T08:34:08.100079Z",
     "start_time": "2022-08-10T08:34:08.084085Z"
    }
   },
   "source": [
    "# SQL QUERY"
   ]
  },
  {
   "cell_type": "code",
   "execution_count": null,
   "id": "687dc12c",
   "metadata": {},
   "outputs": [],
   "source": [
    "# 테이블 만드는 작업 \n",
    "CREATE DATABASE if not exists practice_sql;\n",
    "\n",
    "USE practice_sql;\n",
    "\n",
    "CREATE TABLE if not exists SHOPPING_BASKET\n",
    "( \n",
    "    CATEGORY_ID         INT, \n",
    "    USER_ID             INT\n",
    "); \n",
    "\n",
    "CREATE TABLE if not exists SHOPPING_BASKET_PRODUCTS\n",
    "( \n",
    "    CATE_ID    INT,\n",
    "    PRICE      INT\n",
    ");\n",
    "\n",
    "INSERT INTO SHOPPING_BASKET (CATEGORY_ID, USER_ID) VALUES (307, 3);\n",
    "INSERT INTO SHOPPING_BASKET (CATEGORY_ID, USER_ID) VALUES (500, 7);\n",
    "INSERT INTO SHOPPING_BASKET (CATEGORY_ID, USER_ID) VALUES (100, 3);\n",
    "\n",
    "INSERT INTO SHOPPING_BASKET_PRODUCTS (CATE_ID, PRICE) VALUES (307, 8700);\n",
    "INSERT INTO SHOPPING_BASKET_PRODUCTS (CATE_ID, PRICE) VALUES (307, 6990);\n",
    "INSERT INTO SHOPPING_BASKET_PRODUCTS (CATE_ID, PRICE) VALUES (500, 4780);\n",
    "INSERT INTO SHOPPING_BASKET_PRODUCTS (CATE_ID, PRICE) VALUES (500, 9990);\n",
    "INSERT INTO SHOPPING_BASKET_PRODUCTS (CATE_ID, PRICE) VALUES (500, 1260);\n",
    "INSERT INTO SHOPPING_BASKET_PRODUCTS (CATE_ID, PRICE) VALUES (100, 3400);\n",
    "INSERT INTO SHOPPING_BASKET_PRODUCTS (CATE_ID, PRICE) VALUES (100, 1500);"
   ]
  },
  {
   "cell_type": "code",
   "execution_count": null,
   "id": "994413d9",
   "metadata": {},
   "outputs": [],
   "source": [
    "# CATEGORY_TOTAL_PRICE 임시 테이블 생성 \n",
    "WITH CATEGORY_TOTAL_PRICE AS( \n",
    "    SELECT CATE_ID, SUM(PRICE) as 'TOTAL_PRICE' FROM SHOPPING_BASKET_PRODUCTS\n",
    "    GROUP BY CATE_ID)\n",
    "\n",
    "# 최종 결과 \n",
    "SELECT SHOPPING_BASKET.USER_ID, COUNT(SHOPPING_BASKET.USER_ID) as count_user_id, SUM(CATEGORY_TOTAL_PRICE.TOTAL_PRICE) as total_price FROM SHOPPING_BASKET\n",
    "INNER JOIN CATEGORY_TOTAL_PRICE\n",
    "ON SHOPPING_BASKET.CATEGORY_ID = CATEGORY_TOTAL_PRICE.CATE_ID\n",
    "GROUP BY SHOPPING_BASKET.USER_ID;"
   ]
  },
  {
   "attachments": {
    "image.png": {
     "image/png": "[encoded data removed]"
    }
   },
   "cell_type": "markdown",
   "id": "794a4377",
   "metadata": {},
   "source": [
    "![image.png](attachment:image.png)"
   ]
  }
 ],
 "metadata": {
  "kernelspec": {
   "display_name": "Python 3",
   "language": "python",
   "name": "python3"
  },
  "language_info": {
   "codemirror_mode": {
    "name": "ipython",
    "version": 3
   },
   "file_extension": ".py",
   "mimetype": "text/x-python",
   "name": "python",
   "nbconvert_exporter": "python",
   "pygments_lexer": "ipython3",
   "version": "3.8.8"
  },
  "toc": {
   "base_numbering": 1,
   "nav_menu": {},
   "number_sections": true,
   "sideBar": true,
   "skip_h1_title": false,
   "title_cell": "Table of Contents",
   "title_sidebar": "Contents",
   "toc_cell": false,
   "toc_position": {},
   "toc_section_display": true,
   "toc_window_display": false
  },
  "varInspector": {
   "cols": {
    "lenName": 16,
    "lenType": 16,
    "lenVar": 40
   },
   "kernels_config": {
    "python": {
     "delete_cmd_postfix": "",
     "delete_cmd_prefix": "del ",
     "library": "var_list.py",
     "varRefreshCmd": "print(var_dic_list())"
    },
    "r": {
     "delete_cmd_postfix": ") ",
     "delete_cmd_prefix": "rm(",
     "library": "var_list.r",
     "varRefreshCmd": "cat(var_dic_list()) "
    }
   },
   "types_to_exclude": [
    "module",
    "function",
    "builtin_function_or_method",
    "instance",
    "_Feature"
   ],
   "window_display": false
  }
 },
 "nbformat": 4,
 "nbformat_minor": 5
}
