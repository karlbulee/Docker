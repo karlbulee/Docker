{
 "cells": [
  {
   "cell_type": "markdown",
   "id": "14717df1",
   "metadata": {},
   "source": [
    "# 컨테이너 개조"
   ]
  },
  {
   "cell_type": "markdown",
   "id": "a5a08edf",
   "metadata": {},
   "source": [
    "**컨테이너 개조 방법**\n",
    "- 파일 복사와 마운트 이용\n",
    "- 컨테이너에서 리눅스 명령어 실행. 소프트웨어를 설치하거나 설정 변경 가능 \n",
    "\n",
    "**컨테이너 명령 실행**\n",
    "- 리눅스에 명령 전달해 주는 프로그램인 shell(셸) 있어야 함 \n",
    "- 대부분의 컨테이너에는 가장 일반적으로 사용되는 셸인 bash 설치돼 있음 \n",
    "\n",
    "**bash를 실행하는 인자**\n",
    "- /bin/bash\n",
    "- docker run 또는 docker exec 커맨드와 함께 사용\n",
    "- bash를 사용한 컨테이너 조작이 끝나고 나면 다시 docker start 커맨드로 컨테이너 재시작해야 함 \n",
    "- docker run 커맨드는 잘 사용 안함\n",
    "- 셸에 입력된 명령은 도커 엔진이 아니라 해당 컨테이너로 전달\n",
    "- 컨테이너 내부를 다루는 명령 \n",
    "\n",
    "**docker exec**\n",
    "- 컨테이너 속에서 명령어를 실행하는 커맨드\n",
    "- docker exec (옵션) 컨테이너_이름 /bin/bash\n",
    "- docker exec -it apa000ex23 /bin/bash\n",
    "- bash를 통해 컨테이너 내부를 조작하는 동안에는 도커 명령 사용할 수 없음 \n",
    "\n",
    "**도커 엔진에 명령 내릴 수 있도록 컨테이너 나오기 커맨드**\n",
    "- exit\n",
    "\n",
    "**도커 엔진을 통한 명령**\n",
    "- 도커 엔진 자체의 시작 또는 종료, 네트워크, 디스크 설정, 실행 중인 컨테니어 목록 확인 등\n",
    "- 컨테이너 전체에 대한 관리\n",
    "\n",
    "**컨테이너 내부에서 실행하는 명령**\n",
    "- 컨테이너 속 새로운 소프트웨어 추가\n",
    "- 컨테이너 속 소프트웨어 실행 및 종료, 설정 변경, 컨테이너 안과 밖의 파일 복사 및 이동, 삭제 등 \n",
    "\n",
    "\n",
    "- 대부분의 컨테이너는 데비안 계열이며, 컨테이너 내부를 통해 개조 작업을 하는 컨테이너는 대부분 데비안 계열임"
   ]
  },
  {
   "cell_type": "markdown",
   "id": "babaedc2",
   "metadata": {},
   "source": [
    "# 도커 허브"
   ]
  },
  {
   "cell_type": "markdown",
   "id": "5b66495c",
   "metadata": {},
   "source": [
    "- 직접 만든 이미지도 도커 허브에 올릴 수 있으며, 비공개로 사용하는 도커 허브 같은 장소도 만들 수 있음\n",
    "\n",
    "**도커 레지스트리**\n",
    "- 이미지를 배포하는 장소 \n",
    "\n",
    "**도커 허브**\n",
    "- 도커 제작사에서 운영하는 공식 도커 레지스트리\n",
    "\n",
    "**레지스트리**\n",
    "- 이미지를 배포하는 장소\n",
    "- 회사나 부서 단위\n",
    "\n",
    "**리포지토리**\n",
    "- 레지스트리를 구성하는 단위 \n",
    "- 소프트웨어 단위 \n",
    "\n",
    "**이미지에 태그를 부여해 복제하려는 명령어**\n",
    "- docker tag 원래_이미지_이름 레지스트리_주소/리포지토리_이름:버전\n",
    "- docker tag apa000ex22 zoozoo.coomm/nyapacchi:13\n",
    "- 원래 있던 이미지 이름을 태그로 바꾸고 이미지 복제 \n",
    "\n",
    "**이미지 업로드 커맨드**\n",
    "- docker push \n",
    "- 도커 엔진은 태그에 포함된 레지스트리 주소의 도메인에 있는 레지스트리로 업로드 시도\n",
    "- 리포지토리는 처음 업로드할 때 존재하지 않고 push 커맨드를 실행하며 만들어짐\n",
    "- docker push 레지스트리_주소/리포지토리_이름:버전\n",
    "-docker push zoozoo.coomm/nyapacchi:13\n",
    "\n",
    "**비공개 레지스트리 만드는 방법**\n",
    "- docker run -d -p 5000:5000 registry\n",
    "\n",
    "**도커 허브 사용**\n",
    "- 이메일 주소만 있으면 됨 "
   ]
  },
  {
   "cell_type": "markdown",
   "id": "4daaca92",
   "metadata": {},
   "source": [
    "# 도커 컴포즈"
   ]
  },
  {
   "cell_type": "markdown",
   "id": "998e30b5",
   "metadata": {},
   "source": [
    "**도커 컴포즈**\n",
    "- 시스템 구축과 관련된 명령어를 하나의 텍스트 파일(정의 파일, YAML 파일)에 기재해 명령어 한번에 시스템 전체를 실행하고 종료와 폐기까지 한번에 하도록 도와주는 도구\n",
    "\n",
    "**up 커맨드**\n",
    "- docker run 커맨드와 비슷\n",
    "- 정의 파일에 기재된 내용대로 이미지 내려받고 컨테이너 생성 및 실행\n",
    "- 정의 파일에는 볼륨에 대한 정의도 기재할 수 있어서 주변 환경 한꺼번에 생성 가능\n",
    "\n",
    "**down 커맨드**\n",
    "- 컨테이너와 네트워크 정지 및 삭제\n",
    "- 볼륨과 이미지는 삭제하지 않음\n",
    "- 컨테이너와 네트워크 삭제 없이 종료만 하고 싶다면 stop 커맨드\n",
    "\n",
    "**도커 컴포즈와 Dockerfile 차이점**\n",
    "- 도커 컴포즈는 docker run 명령어를 여러 개 모아놓은 것 \n",
    "- Dockerfile 스크립트는 이미지를 만들기 위한 것 \n",
    "\n",
    "**도커 컴포즈 설치**\n",
    "- 윈도우나 macOS에서 사용하는 도커 데스크톱은 도커 컴포즈가 함께 설치되기 때문에 따로 설치할 필요 없음\n",
    "- 리눅스에서는 도커 컴포즈와 파이썬 3 런타임 및 필요 도구 설치해야 함 \n",
    "\n",
    "**리눅스**\n",
    "- sudo apt install -y python3 python3-pip\n",
    "- sudo pip3 install docker-compose\n",
    "- docker-compose -version : 설치 확인\n",
    "\n",
    "**도커 컴포즈 사용법**\n",
    "- 호스트 컴퓨터에 폴더 만들고 이 폴더에 정의 파일(YAML) 배치\n",
    "- 미리 정해진 docker-compose.yml 이름 사용해야 함 \n",
    "- 정의 파일은 한 폴더에 하나만 있어야 함 "
   ]
  },
  {
   "cell_type": "markdown",
   "id": "0553b1a6",
   "metadata": {},
   "source": [
    "**도커 컴포즈 정의 파일 내용**\n",
    "- 정의 파일은 run 명령어와 매우 비슷\n",
    "\n",
    "**컴포즈 파일(정의 파일) 작성 방법**\n",
    "- 정의 파일의 형식 : YAML 형식\n",
    "- 파일 이름 : docekr-compose.yml\n",
    "- 맨 앞에 컴포츠 버전 적고 귀 뒤로 services와 networks, volumes를 차례로 기재\n",
    "- services는 쉽게 말해 컨테이너에 대한 내용\n",
    "- YAML 형식에서는 공백에 따라 의미가 달라짐 \n",
    "- 이름 뒤에는 반드시 콜론을 붙임 "
   ]
  },
  {
   "cell_type": "code",
   "execution_count": null,
   "id": "5eb4b82f",
   "metadata": {},
   "outputs": [],
   "source": [
    "version: \"3\"\n",
    "services: \n",
    "  컨테이너_이름1: \n",
    "  컨테이너_이름2: \n",
    "networks:\n",
    "  네트워크_이름1:\n",
    "volumes:\n",
    "  볼륨_이름1: \n",
    "  볼륨_이름2: "
   ]
  },
  {
   "cell_type": "code",
   "execution_count": null,
   "id": "7b11e123",
   "metadata": {},
   "outputs": [],
   "source": [
    "# apa000ex2 컨테이너 실행 명령어\n",
    "# docker run --name apa000ex2 -d -p 8080:80 httpd\n",
    "\n",
    "# wordpress000ex12 컨테이너 실행 명령어\n",
    "# docker run --neam wordpress000ex12 -dit --net=wordpress000net1 -p 8085:80 \n",
    "  -e WORDPRESS_DB_HOST=mysql000ex11 WORDPRESS_DB_NAME=wordpress000db 중략\n",
    "\n",
    "\n",
    "# 예시1\n",
    "version: \"3\"\n",
    "\n",
    "services: \n",
    "  apa000ex2: \n",
    "    image: httpd\n",
    "    ports: \n",
    "      - 8080:80\n",
    "    restart: always\n",
    "\n",
    "# 예시2\n",
    "version: \"3\"\n",
    "\n",
    "services: \n",
    "  wordpress000ex12: \n",
    "    depends_on: \n",
    "      - mysql000ex11\n",
    "    image: wordpress\n",
    "    networks: \n",
    "      - wordpress000net1\n",
    "    ports: \n",
    "      - 8085:80\n",
    "    restart: always\n",
    "    environment: \n",
    "      WORDPRESS_DB_HOST=mysql000ex11\n",
    "      WORDPRESS_DB_NAME=wordpress000db\n",
    "      WORDPRESS_DB_USER=wordpress000kun\n",
    "      WORDPRESS_DB_PASSWORD=wkunpass"
   ]
  }
 ],
 "metadata": {
  "kernelspec": {
   "display_name": "Python 3 (ipykernel)",
   "language": "python",
   "name": "python3"
  },
  "toc": {
   "base_numbering": 1,
   "nav_menu": {},
   "number_sections": true,
   "sideBar": true,
   "skip_h1_title": false,
   "title_cell": "Table of Contents",
   "title_sidebar": "Contents",
   "toc_cell": false,
   "toc_position": {},
   "toc_section_display": true,
   "toc_window_display": false
  },
  "varInspector": {
   "cols": {
    "lenName": 16,
    "lenType": 16,
    "lenVar": 40
   },
   "kernels_config": {
    "python": {
     "delete_cmd_postfix": "",
     "delete_cmd_prefix": "del ",
     "library": "var_list.py",
     "varRefreshCmd": "print(var_dic_list())"
    },
    "r": {
     "delete_cmd_postfix": ") ",
     "delete_cmd_prefix": "rm(",
     "library": "var_list.r",
     "varRefreshCmd": "cat(var_dic_list()) "
    }
   },
   "types_to_exclude": [
    "module",
    "function",
    "builtin_function_or_method",
    "instance",
    "_Feature"
   ],
   "window_display": false
  }
 },
 "nbformat": 4,
 "nbformat_minor": 5
}
