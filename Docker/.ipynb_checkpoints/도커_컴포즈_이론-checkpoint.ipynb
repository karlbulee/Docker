{
 "cells": [
  {
   "cell_type": "markdown",
   "id": "14717df1",
   "metadata": {},
   "source": [
    "# 컨테이너 개조"
   ]
  },
  {
   "cell_type": "markdown",
   "id": "c66f9939",
   "metadata": {},
   "source": [
    "**컨테이너 개조 방법**\n",
    "- 파일 복사와 마운트 이용\n",
    "- 컨테이너에서 리눅스 명령어 실행. 소프트웨어를 설치하거나 설정 변경 가능 \n",
    "\n",
    "**컨테이너 명령 실행**\n",
    "- 리눅스에 명령 전달해 주는 프로그램인 shell(셸) 있어야 함 \n",
    "- 대부분의 컨테이너에는 가장 일반적으로 사용되는 셸인 bash 설치돼 있음 \n",
    "\n",
    "**bash를 실행하는 인자**\n",
    "- /bin/bash\n",
    "- docker run 또는 docker exec 커맨드와 함께 사용\n",
    "- bash를 사용한 컨테이너 조작이 끝나고 나면 다시 docker start 커맨드로 컨테이너 재시작해야 함 \n",
    "- docker run 커맨드는 잘 사용 안함\n",
    "- 셸에 입력된 명령은 도커 엔진이 아니라 해당 컨테이너로 전달\n",
    "- 컨테이너 내부를 다루는 명령 \n",
    "\n",
    "**docker exec**\n",
    "- 컨테이너 속에서 명령어를 실행하는 커맨드\n",
    "- docker exec (옵션) 컨테이너_이름 /bin/bash\n",
    "- docker exec -it apa000ex23 /bin/bash\n",
    "- bash를 통해 컨테이너 내부를 조작하는 동안에는 도커 명령 사용할 수 없음 \n",
    "\n",
    "**도커 엔진에 명령 내릴 수 있도록 컨테이너 나오기 커맨드**\n",
    "- exit\n",
    "\n",
    "**도커 엔진을 통한 명령**\n",
    "- 도커 엔진 자체의 시작 또는 종료, 네트워크, 디스크 설정, 실행 중인 컨테니어 목록 확인 등\n",
    "- 컨테이너 전체에 대한 관리\n",
    "\n",
    "**컨테이너 내부에서 실행하는 명령**\n",
    "- 컨테이너 속 새로운 소프트웨어 추가\n",
    "- 컨테이너 속 소프트웨어 실행 및 종료, 설정 변경, 컨테이너 안과 밖의 파일 복사 및 이동, 삭제 등 \n",
    "\n",
    "\n",
    "- 대부분의 컨테이너는 데비안 계열이며, 컨테이너 내부를 통해 개조 작업을 하는 컨테이너는 대부분 데비안 계열임"
   ]
  },
  {
   "cell_type": "markdown",
   "id": "44a9c698",
   "metadata": {},
   "source": [
    "# 도커 허브"
   ]
  },
  {
   "cell_type": "markdown",
   "id": "f9d919db",
   "metadata": {},
   "source": [
    "- 직접 만든 이미지도 도커 허브에 올릴 수 있으며, 비공개로 사용하는 도커 허브 같은 장소도 만들 수 있음\n",
    "\n",
    "**도커 레지스트리**\n",
    "- 이미지를 배포하는 장소 \n",
    "\n",
    "**도커 허브**\n",
    "- 도커 제작사에서 운영하는 공식 도커 레지스트리\n",
    "\n",
    "**레지스트리**\n",
    "- 이미지를 배포하는 장소\n",
    "- 회사나 부서 단위\n",
    "\n",
    "**리포지토리**\n",
    "- 레지스트리를 구성하는 단위 \n",
    "- 소프트웨어 단위 \n",
    "\n",
    "**이미지에 태그를 부여해 복제하려는 명령어**\n",
    "- docker tag 원래_이미지_이름 레지스트리_주소/리포지토리_이름:버전\n",
    "- docker tag apa000ex22 zoozoo.coomm/nyapacchi:13"
   ]
  },
  {
   "cell_type": "code",
   "execution_count": null,
   "id": "43fbfa58",
   "metadata": {},
   "outputs": [],
   "source": []
  }
 ],
 "metadata": {
  "kernelspec": {
   "display_name": "Python 3 (ipykernel)",
   "language": "python",
   "name": "python3"
  },
  "toc": {
   "base_numbering": 1,
   "nav_menu": {},
   "number_sections": true,
   "sideBar": true,
   "skip_h1_title": false,
   "title_cell": "Table of Contents",
   "title_sidebar": "Contents",
   "toc_cell": false,
   "toc_position": {},
   "toc_section_display": true,
   "toc_window_display": false
  },
  "varInspector": {
   "cols": {
    "lenName": 16,
    "lenType": 16,
    "lenVar": 40
   },
   "kernels_config": {
    "python": {
     "delete_cmd_postfix": "",
     "delete_cmd_prefix": "del ",
     "library": "var_list.py",
     "varRefreshCmd": "print(var_dic_list())"
    },
    "r": {
     "delete_cmd_postfix": ") ",
     "delete_cmd_prefix": "rm(",
     "library": "var_list.r",
     "varRefreshCmd": "cat(var_dic_list()) "
    }
   },
   "types_to_exclude": [
    "module",
    "function",
    "builtin_function_or_method",
    "instance",
    "_Feature"
   ],
   "window_display": false
  }
 },
 "nbformat": 4,
 "nbformat_minor": 5
}
