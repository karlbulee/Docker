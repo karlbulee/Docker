{
 "cells": [
  {
   "cell_type": "markdown",
   "id": "5d2f27a0",
   "metadata": {},
   "source": [
    "# Docker"
   ]
  },
  {
   "cell_type": "markdown",
   "id": "84fb0a83",
   "metadata": {},
   "source": [
    "1. Docker : 데이터 또는 프로그램을 독립된 환경에 격리시키는 기능을 제공하는 소프트웨어\n",
    "- 조립형 창고를 <span class=\"mark\">컨테이너</span>라고 하고 이 컨테이너를 다루는 기능을 제공하는 소프트웨어가 도커\n",
    "- 도커를 사용하려면 도커 소프트웨어의 본체인 <span class=\"mark\">도커 엔진</span>을 설치하고 이를 사용해 컨테이너를 생성하고 구동시킬 수 있음 \n",
    "- 컨테이너를 만들려면 도커 엔진 외에도 컨테이너의 빵틀과도 같은 역할을 할 <span class=\"mark\">이미지</span>가 필요\n",
    "- 하나의 도커에서 컨테이너 여러 개 만들 수 있음\n",
    "- Window, macOS에서도 도커 사용하려면 내부적으로 <span class=\"mark\">리눅스</span> 사용되고 컨테이너에서 동작시킬 프로그램도 리눅스용 프로그램임\n",
    "\n",
    "2. Image : 담고 있는 소프트웨어 종류에 따라 다양한 이미지 사용\n",
    "- MySQL 컨테이너를 만들려면 MySQL 이미지 사용 "
   ]
  },
  {
   "cell_type": "markdown",
   "id": "5d35f00f",
   "metadata": {},
   "source": [
    "## 데이터 또는 프로그램을 독립된 환경에 격리하는 이유"
   ]
  },
  {
   "cell_type": "markdown",
   "id": "f456a19e",
   "metadata": {},
   "source": [
    "- 컨테이너 안에 들어있는 프로그램은 다른 프로그램과 격리된 상태\n",
    "- 여러 프로그램이 한 서버에서 실행되면서 발생하는 문제 대부분 해결 가능 \n",
    "- 여러 컨테이너에서 같은 프로그램 실행 및 버전 동일 상관 없음"
   ]
  },
  {
   "cell_type": "markdown",
   "id": "54cb83aa",
   "metadata": {},
   "source": [
    "# 서버"
   ]
  },
  {
   "cell_type": "markdown",
   "id": "e2b789fe",
   "metadata": {
    "ExecuteTime": {
     "end_time": "2022-08-15T04:21:39.287064Z",
     "start_time": "2022-08-15T04:21:39.282064Z"
    }
   },
   "source": [
    "- Server : 어떤 서비스를 제공하는 것 \n",
    "- 도커는 서버에서 사용되는 소프트웨어\n",
    "- 개인용 컴퓨터는 개인이 사용, 서버는 여러 사람이 원격으로 접근해 사용\n",
    "\n",
    "1. <span class=\"mark\">기능적</span> 의미의 서버 \n",
    "- 00서버 : 00 기능을 제공함 (ex. 웹서버, 웹 기능을 제공하는 서버)\n",
    "- 웹 서버, 메일 서버, 데이터베이스 서버(MySQL, MariaDB 등), DNS 서버 등\n",
    "\n",
    "2. <span class=\"mark\">물리적</span> 의미의 서버\n",
    "- 데스크톱 컴퓨터와 마찬가지로 어딘가에 물리적으로 존재하는 컴퓨터\n",
    "\n",
    "3. 물리적 컴퓨터로서의 서버에 여러 개의 기능적 의미의 서버 함께 두기 가능\n",
    "- 소프트웨어를 설치하면 '서버'의 기능을 갖게 됨(웹 서버용 소프트웨어 설치 => 웹 서버)\n",
    "- 웹 서버, 메일 서버 한 컴퓨터에서 제공 가능\n",
    "\n",
    "4. 서버용 운영체제로는 리눅스 또는 유닉스 계열 주로 사용 \n",
    "- 리눅스 계통 : 레드햇, 우분투"
   ]
  },
  {
   "cell_type": "markdown",
   "id": "b1e30793",
   "metadata": {},
   "source": [
    "## 컨테이너로 서버 기능 안전하게 함께 실행"
   ]
  },
  {
   "cell_type": "markdown",
   "id": "f9cb0eb0",
   "metadata": {},
   "source": [
    "- 한 대의 서버에서 실행하던 웹 서버, 메일 서버, 시스템과 DB서버 각각 <span class=\"mark\">독립적인 환경</span>에서 <span class=\"mark\">안전</span>하게 운용\n",
    "- 업데이트 시 서로 영향 미치지 않음 \n",
    "- 일반적으로 한 대의 서버 컴퓨터에는 웹 서버를 한 벌 밖에 실행 못함\n",
    "- 물리 서버 한 대에 <span class=\"mark\">여러 개</span>의 웹 서버 띄우면 물리 서버 수 줄이기 가능"
   ]
  },
  {
   "cell_type": "markdown",
   "id": "a559e4a3",
   "metadata": {},
   "source": [
    "## 컨테이너 옮기기"
   ]
  },
  {
   "cell_type": "markdown",
   "id": "d66bb846",
   "metadata": {},
   "source": [
    "- 컨테이너 정보 내보내기 후 다른 도커 엔진에서 복원 가능(컨테이너 옮기기)\n",
    "- 똑같은 상태로 튜닝한 컨테이너 팀원 전원에게 배포 가능(<span class=\"mark\">동일한 개발환경</span>)\n",
    "- 도커만 설치되어 있으면 운영체제 달라도 컨테이너 옮기기 가능\n",
    "- 물리적 환경의 차이, 서버 구성의 차이 무시 가능"
   ]
  },
  {
   "cell_type": "markdown",
   "id": "399acb04",
   "metadata": {},
   "source": [
    " # 도커 동작 원리\n"
   ]
  },
  {
   "cell_type": "markdown",
   "id": "aca5fbab",
   "metadata": {},
   "source": [
    "1. 컨테이너 안 \n",
    "- 운영체제 위에 도커 엔진 동작하고 그 위에서 컨테이너가 동작\n",
    "- 프로그램이나 데이터(밖에 위치하는 것 있음)는 컨테이너 안에 위치\n",
    "- 모든 컨테이너에는 <span class=\"mark\">리눅스 운영체제</span> 비슷한 무언가가 들어 있음(기본 안주 같은 것) : 텅 빈 컨테이너는 없음\n",
    "\n",
    "2. 운영체제\n",
    "- 소프트웨어나 프로그램의 명령을 하드웨어에 전달하는 역할\n",
    "- 커널과 그 외의 주변 부분으로 구성됨\n",
    "- 주변 부분이 프로그램의 연락 내용 커널에 전달\n",
    "- 커널이 하드웨어 다룸\n",
    "\n",
    "3. 운영체제 비슷한 무언가\n",
    "- 컨테이너 속에 운영체제 주변 부분이 프로그램 명령 전달 받고 이를 도커 엔진 => 커널 => 하드웨어 이렇게 전달\n",
    "- 도커의 가장 큰 특징인 <span class=\"mark\">가벼움</span>을 얻을 수 있는 부분\n",
    "\n",
    "4. 리눅스\n",
    "- 도커는 밑바탕에서 <span class=\"mark\">리눅스 운영체제</span>가 동작하는 것을 전제로 하는 구조라 리눅스 운영체제에서만 동작 가능\n",
    "- 컨테이너에서 실행한 소프트웨어(프로그램) 역시 리눅스용 소프트웨어(워드, 엑셀, 포토샵, 파워포인트, 일러스트레이터 안됨)\n",
    "- 도커는 서버 환경을 전제로 하는데 리눅스 운영체제가 서버에서 사용되는 경우 많고 리눅스용 소프트웨어도 서버용 소프트웨어 많기 때문\n",
    "\n",
    "5. Window, macOS\n",
    "- 이 둘을 사용하는 컴퓨터에서는 도커를 사용할 수 없어야 하지만 실제로는 사용 가능\n",
    "- 윈도우나 macOS 위에 리눅스 운영체제 끌어들여 도커 실행하는 것\n",
    "- VirtualBox나 VMware 같은 가상 환경 위에 리눅스 운영체제 설치하거나 \n",
    "- 윈도우용(WSL2) 또는 macOS용 도커 데스크톱처럼 도커 실행하는데 필요한 리눅스 운영체제 포함하는 패키지 설치해 사용함"
   ]
  },
  {
   "cell_type": "markdown",
   "id": "f576e025",
   "metadata": {},
   "source": [
    "## 이미지"
   ]
  },
  {
   "cell_type": "markdown",
   "id": "542b3a18",
   "metadata": {},
   "source": [
    "- 컨테이너 생성하려면 이미지 만들어야 함\n",
    "- 이미지는 컨테이너를 찍어내는 빵틀과 같은 것으로 컨테이너의 <span class=\"mark\">설계도</span> 역할\n",
    "- 실제 사용하는 것은 컨테이너이며, 이미지를 그대로 사용하는 일은 없음\n",
    "- 이미지는 하나만 있으면 똑같은 것 여러 개 만들 수 있음(동일하느 컨테이너 여러 개 배치 편리)"
   ]
  }
 ],
 "metadata": {
  "kernelspec": {
   "display_name": "Python 3 (ipykernel)",
   "language": "python",
   "name": "python3"
  },
  "language_info": {
   "codemirror_mode": {
    "name": "ipython",
    "version": 3
   },
   "file_extension": ".py",
   "mimetype": "text/x-python",
   "name": "python",
   "nbconvert_exporter": "python",
   "pygments_lexer": "ipython3",
   "version": "3.9.12"
  },
  "toc": {
   "base_numbering": 1,
   "nav_menu": {},
   "number_sections": true,
   "sideBar": true,
   "skip_h1_title": false,
   "title_cell": "Table of Contents",
   "title_sidebar": "Contents",
   "toc_cell": false,
   "toc_position": {},
   "toc_section_display": true,
   "toc_window_display": false
  },
  "varInspector": {
   "cols": {
    "lenName": 16,
    "lenType": 16,
    "lenVar": 40
   },
   "kernels_config": {
    "python": {
     "delete_cmd_postfix": "",
     "delete_cmd_prefix": "del ",
     "library": "var_list.py",
     "varRefreshCmd": "print(var_dic_list())"
    },
    "r": {
     "delete_cmd_postfix": ") ",
     "delete_cmd_prefix": "rm(",
     "library": "var_list.r",
     "varRefreshCmd": "cat(var_dic_list()) "
    }
   },
   "types_to_exclude": [
    "module",
    "function",
    "builtin_function_or_method",
    "instance",
    "_Feature"
   ],
   "window_display": false
  }
 },
 "nbformat": 4,
 "nbformat_minor": 5
}
