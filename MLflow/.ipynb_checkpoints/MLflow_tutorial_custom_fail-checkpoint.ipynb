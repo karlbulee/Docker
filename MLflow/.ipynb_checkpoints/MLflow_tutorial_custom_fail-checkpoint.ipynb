{
 "cells": [
  {
   "cell_type": "markdown",
   "id": "4de0537f",
   "metadata": {},
   "source": [
    "# MLflow 튜토리얼 커스텀하게 바꿔보기"
   ]
  },
  {
   "cell_type": "code",
   "execution_count": 4,
   "id": "b0ec66de",
   "metadata": {
    "ExecuteTime": {
     "end_time": "2022-08-03T10:59:57.527946Z",
     "start_time": "2022-08-03T10:59:57.518952Z"
    }
   },
   "outputs": [
    {
     "data": {
      "text/plain": [
       "['train.py']"
      ]
     },
     "execution_count": 4,
     "metadata": {},
     "output_type": "execute_result"
    }
   ],
   "source": [
    "import os\n",
    "os.getcwd()\n",
    "os.chdir('C:/Users/canmanmo/Desktop/mlflow_custom')\n",
    "os.getcwd()\n",
    "os.listdir()"
   ]
  },
  {
   "cell_type": "markdown",
   "id": "42bd4531",
   "metadata": {},
   "source": [
    "## 타이타닉 데이터 및 모델로 교체"
   ]
  },
  {
   "cell_type": "code",
   "execution_count": null,
   "id": "f92cae51",
   "metadata": {
    "ExecuteTime": {
     "end_time": "2022-08-03T11:06:33.374115Z",
     "start_time": "2022-08-03T11:06:32.880563Z"
    }
   },
   "outputs": [],
   "source": [
    "# The data set used in this example is from http://archive.ics.uci.edu/ml/datasets/Wine+Quality\n",
    "# P. Cortez, A. Cerdeira, F. Almeida, T. Matos and J. Reis.\n",
    "# Modeling wine preferences by data mining from physicochemical properties. In Decision Support Systems, Elsevier, 47(4):547-553, 2009.\n",
    "\n",
    "import os\n",
    "import warnings\n",
    "import sys\n",
    "\n",
    "import pandas as pd\n",
    "import numpy as np\n",
    "from sklearn.metrics import mean_squared_error, mean_absolute_error, r2_score\n",
    "from sklearn.model_selection import train_test_split\n",
    "from sklearn.linear_model import ElasticNet\n",
    "from sklearn.linear_model import LogisticRegression\n",
    "from urllib.parse import urlparse\n",
    "import mlflow\n",
    "import mlflow.sklearn\n",
    "\n",
    "import logging\n",
    "\n",
    "logging.basicConfig(level=logging.WARN)\n",
    "logger = logging.getLogger(__name__)\n",
    "\n",
    "\n",
    "def eval_metrics(actual, pred):\n",
    "    score = model.score(actual, pred)\n",
    "    return score\n",
    "\n",
    "\n",
    "if __name__ == \"__main__\":\n",
    "    warnings.filterwarnings(\"ignore\")\n",
    "    np.random.seed(40)\n",
    "\n",
    "    # Read the wine-quality csv file from the URL\n",
    "    csv_url = (\n",
    "        \"https://raw.githubusercontent.com/TeamLab/machine_learning_from_scratch_with_python/master/code/ch12/titanic/train.csv\"\n",
    "    )\n",
    "    try:\n",
    "        data = pd.read_csv(csv_url)\n",
    "    except Exception as e:\n",
    "        logger.exception(\n",
    "            \"Unable to download training & test CSV, check your internet connection. Error: %s\", e\n",
    "        )\n",
    "\n",
    "    # Removing unnecessary columns \n",
    "    data.drop(columns=[\"Cabin\", \"Ticket\", \"Name\", \"Embarked\"], inplace=True)\n",
    "    # Change Sex from male to 1 and female to 0\n",
    "    data[\"Sex\"] = (data[\"Sex\"].str[0]==\"m\").replace(\"m\", 1).astype(int)\n",
    "    # forward filling those columns which have NaN values\n",
    "    data[\"Age\"] = data[\"Age\"].ffill()\n",
    "    data[\"Fare\"] = data[\"Fare\"].ffill()    \n",
    "    \n",
    "    # Split the data into training and test sets. (0.75, 0.25) split.\n",
    "    train, test = train_test_split(data)\n",
    "\n",
    "    # The predicted column is \"Survived\" which is a scalar from [3, 9]\n",
    "    train_x = train.drop([\"Survived\"], axis=1)\n",
    "    test_x = test.drop([\"Survived\"], axis=1)\n",
    "    train_y = train[[\"Survived\"]]\n",
    "    test_y = test[[\"Survived\"]]\n",
    "    \n",
    "    max_iter = 100\n",
    "\n",
    "    with mlflow.start_run():\n",
    "        model = LogisticRegression(max_iter=max_iter, random_state=42)\n",
    "        model.fit(train_x, train_y)\n",
    "\n",
    "#         predicted_survived = model.predict(test_x)\n",
    "\n",
    "        (score) = eval_metrics(test_x, test_y)\n",
    "\n",
    "        print(\"LogisticRegression model (max_iter=%d):\" % (max_iter))\n",
    "        print(\"  Score: %s\" % score)\n",
    "\n",
    "\n",
    "        mlflow.log_param(\"max_iter\", max_iter)\n",
    "        mlflow.log_metric(\"score\", score)\n",
    "\n",
    "        tracking_url_type_store = urlparse(mlflow.get_tracking_uri()).scheme\n",
    "\n",
    "        # Model registry does not work with file store\n",
    "        if tracking_url_type_store != \"file\":\n",
    "\n",
    "            # Register the model\n",
    "            # There are other ways to use the Model Registry, which depends on the use case,\n",
    "            # please refer to the doc for more information:\n",
    "            # https://mlflow.org/docs/latest/model-registry.html#api-workflow\n",
    "            mlflow.sklearn.log_model(model, \"model\", registered_model_name=\"LogisticTitanicModel\")\n",
    "        else:\n",
    "            mlflow.sklearn.log_model(model, \"model\")"
   ]
  },
  {
   "cell_type": "markdown",
   "id": "5bdbcec5",
   "metadata": {},
   "source": [
    "## 실행 결과"
   ]
  },
  {
   "cell_type": "code",
   "execution_count": 12,
   "id": "4a06bd05",
   "metadata": {
    "ExecuteTime": {
     "end_time": "2022-08-03T11:07:22.450190Z",
     "start_time": "2022-08-03T11:07:15.365088Z"
    }
   },
   "outputs": [
    {
     "name": "stdout",
     "output_type": "stream",
     "text": [
      "LogisticRegression model (max_iter=100):\n",
      "  Score: 0.7847533632286996\n"
     ]
    }
   ],
   "source": [
    "!python train.py"
   ]
  },
  {
   "cell_type": "markdown",
   "id": "1b524d43",
   "metadata": {},
   "source": [
    "## 실패 \n",
    "- 하이퍼파라미터 변경해서 모델이 적용되지 않는다 \n",
    "- 해결해야 함"
   ]
  },
  {
   "cell_type": "code",
   "execution_count": null,
   "id": "8c955c28",
   "metadata": {
    "ExecuteTime": {
     "end_time": "2022-08-03T11:31:32.565252Z",
     "start_time": "2022-08-03T11:31:25.511593Z"
    }
   },
   "outputs": [],
   "source": [
    "!python Titanic/train.py 500"
   ]
  },
  {
   "cell_type": "markdown",
   "id": "52be8b65",
   "metadata": {},
   "source": [
    "# 레퍼런스"
   ]
  },
  {
   "cell_type": "markdown",
   "id": "2e18b02e",
   "metadata": {},
   "source": [
    "- 구글 검색어\n",
    "1. mlflow hyperparameter tuning\n",
    "2. mlflow mlproject file custom\n",
    "\n",
    "- URL\n",
    "1. https://www.phdata.io/blog/bayesian-hyperparameter-optimization-with-mlflow/\n",
    "2. https://stackoverflow.com/questions/57550351/mlflow-1-2-0-define-mlproject-file \n",
    "3. https://scikit-learn.org/stable/modules/model_evaluation.html#classification-metrics(sklearn 평가지표)\n",
    "4. https://mlflow.org/docs/latest/tutorials-and-examples/tutorial.html(MLflow 튜토리얼)\n"
   ]
  },
  {
   "cell_type": "code",
   "execution_count": null,
   "id": "bb4db20d",
   "metadata": {},
   "outputs": [],
   "source": []
  }
 ],
 "metadata": {
  "kernelspec": {
   "display_name": "Python 3",
   "language": "python",
   "name": "python3"
  },
  "language_info": {
   "codemirror_mode": {
    "name": "ipython",
    "version": 3
   },
   "file_extension": ".py",
   "mimetype": "text/x-python",
   "name": "python",
   "nbconvert_exporter": "python",
   "pygments_lexer": "ipython3",
   "version": "3.8.8"
  },
  "toc": {
   "base_numbering": 1,
   "nav_menu": {},
   "number_sections": true,
   "sideBar": true,
   "skip_h1_title": false,
   "title_cell": "Table of Contents",
   "title_sidebar": "Contents",
   "toc_cell": false,
   "toc_position": {},
   "toc_section_display": true,
   "toc_window_display": false
  },
  "varInspector": {
   "cols": {
    "lenName": 16,
    "lenType": 16,
    "lenVar": 40
   },
   "kernels_config": {
    "python": {
     "delete_cmd_postfix": "",
     "delete_cmd_prefix": "del ",
     "library": "var_list.py",
     "varRefreshCmd": "print(var_dic_list())"
    },
    "r": {
     "delete_cmd_postfix": ") ",
     "delete_cmd_prefix": "rm(",
     "library": "var_list.r",
     "varRefreshCmd": "cat(var_dic_list()) "
    }
   },
   "types_to_exclude": [
    "module",
    "function",
    "builtin_function_or_method",
    "instance",
    "_Feature"
   ],
   "window_display": false
  }
 },
 "nbformat": 4,
 "nbformat_minor": 5
}
