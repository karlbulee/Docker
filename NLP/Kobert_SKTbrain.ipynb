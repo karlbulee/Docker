{
 "cells": [
  {
   "cell_type": "markdown",
   "id": "a9146cde",
   "metadata": {},
   "source": [
    "# SKT Kobert 실습"
   ]
  },
  {
   "cell_type": "markdown",
   "id": "cc4747e0",
   "metadata": {},
   "source": [
    "- pytorch 설치\n",
    "- 필요 패키지 설치\n",
    "- Kobert"
   ]
  },
  {
   "cell_type": "code",
   "execution_count": 9,
   "id": "0c6104e7",
   "metadata": {
    "ExecuteTime": {
     "end_time": "2022-08-08T07:45:22.243558Z",
     "start_time": "2022-08-08T07:45:22.234558Z"
    }
   },
   "outputs": [],
   "source": [
    "# pytorch 설치\n",
    "# !conda install pytorch torchvision torchaudio cudatoolkit=11.6 -c pytorch -c conda-forge\n",
    "\n",
    "# torch 확인 \n",
    "# import torch\n",
    "# torch.cuda.get_device_name(0) \n",
    "# torch.cuda.is_available() \n",
    "# torch.__version__\n",
    "\n",
    "# 필요 패키지 설치\n",
    "# !pip install gluonnlp pandas tqdm   \n",
    "# !pip install mxnet\n",
    "# !pip install sentencepiece==0.1.91\n",
    "# !pip install transformers==4.8.2\n",
    "\n",
    "# kobert \n",
    "# !pip install git+https://git@github.com/SKTBrain/KoBERT.git@master"
   ]
  },
  {
   "cell_type": "markdown",
   "id": "74eddc68",
   "metadata": {},
   "source": [
    "# 패키지 버전 문제 발생(코랩과 동일한 환경으로 맞춤)"
   ]
  },
  {
   "cell_type": "markdown",
   "id": "e784524c",
   "metadata": {},
   "source": [
    "# Reference"
   ]
  },
  {
   "cell_type": "markdown",
   "id": "34d16166",
   "metadata": {},
   "source": [
    "1. URL\n",
    "- https://pytorch.org/get-started/locally/ (pytorch 설치)\n",
    "- https://github.com/SKTBrain/KoBERT/tree/master/kobert_hf (kobert hf  git)\n",
    "\n",
    "2. 블로그(검색어)\n",
    "- https://seongkyun.github.io/others/2019/05/12/win_env/ (윈도우 nvcc)\n",
    "- https://chancoding.tistory.com/90 (jupyter pytorch gpu 사용)\n",
    "- https://hoit1302.tistory.com/159\n",
    "- https://velog.io/@dev-junku/KoBERT-%EB%AA%A8%EB%8D%B8%EC%97%90-%EB%8C%80%ED%95%B4"
   ]
  },
  {
   "cell_type": "code",
   "execution_count": null,
   "id": "04fab701",
   "metadata": {},
   "outputs": [],
   "source": []
  }
 ],
 "metadata": {
  "kernelspec": {
   "display_name": "Python 3",
   "language": "python",
   "name": "python3"
  },
  "language_info": {
   "codemirror_mode": {
    "name": "ipython",
    "version": 3
   },
   "file_extension": ".py",
   "mimetype": "text/x-python",
   "name": "python",
   "nbconvert_exporter": "python",
   "pygments_lexer": "ipython3",
   "version": "3.8.8"
  },
  "toc": {
   "base_numbering": 1,
   "nav_menu": {},
   "number_sections": true,
   "sideBar": true,
   "skip_h1_title": false,
   "title_cell": "Table of Contents",
   "title_sidebar": "Contents",
   "toc_cell": false,
   "toc_position": {},
   "toc_section_display": true,
   "toc_window_display": false
  },
  "varInspector": {
   "cols": {
    "lenName": 16,
    "lenType": 16,
    "lenVar": 40
   },
   "kernels_config": {
    "python": {
     "delete_cmd_postfix": "",
     "delete_cmd_prefix": "del ",
     "library": "var_list.py",
     "varRefreshCmd": "print(var_dic_list())"
    },
    "r": {
     "delete_cmd_postfix": ") ",
     "delete_cmd_prefix": "rm(",
     "library": "var_list.r",
     "varRefreshCmd": "cat(var_dic_list()) "
    }
   },
   "types_to_exclude": [
    "module",
    "function",
    "builtin_function_or_method",
    "instance",
    "_Feature"
   ],
   "window_display": false
  }
 },
 "nbformat": 4,
 "nbformat_minor": 5
}
